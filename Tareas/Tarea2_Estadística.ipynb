{
 "cells": [
  {
   "cell_type": "markdown",
   "id": "22f8b9ce",
   "metadata": {},
   "source": [
    "# Tarea 2. Estadística\n",
    "Katherin A. Murcia S. y Juan Carlos Rojas V."
   ]
  },
  {
   "cell_type": "code",
   "execution_count": 3,
   "id": "e6f26c0a",
   "metadata": {},
   "outputs": [],
   "source": [
    "import numpy as np\n",
    "import matplotlib.pyplot as plt\n",
    "import pandas as pd"
   ]
  },
  {
   "cell_type": "markdown",
   "id": "e9af8a14",
   "metadata": {},
   "source": [
    "_Uniform distribution_"
   ]
  },
  {
   "cell_type": "markdown",
   "id": "c7799c0f",
   "metadata": {},
   "source": [
    "A probability distribution function of interest in error analysis is the uniform distribution. It is defined as\n",
    "$P_U(x; \\bar{x}, a) =\n",
    "\\begin{cases} \n",
    "\\frac{1}{a} & \\text{if } \\bar{x} - \\frac{a}{2} \\leq x \\leq \\bar{x} + \\frac{a}{2}, \\\\\n",
    "0 & \\text{otherwise}.\n",
    "\\end{cases}$ Here the parameter $\\bar{x}$ is the mean of the distribution, and $a$ is the interval in which the probability distribution is uniform."
   ]
  },
  {
   "cell_type": "markdown",
   "id": "05706ccd",
   "metadata": {},
   "source": [
    "**(i)** Show that $P_{U}(x; \\bar{x},a)$ is normalized."
   ]
  },
  {
   "cell_type": "markdown",
   "id": "f9f4f070",
   "metadata": {},
   "source": [
    "Taking the integral over $\\mathbb{R}$ it gives:\n",
    "\\begin{align*}\n",
    "\\int_{\\mathbb{R}} P_{U}(x;\\bar{x},a) \\text{d}x &= \\int_{\\bar{x}-a/2}^{\\bar{x}+a/2} \\frac{1}{a} \\text{d}x\\\\ &= \\left( \\frac{x}{a} \\right) _{\\bar{x}-a/2}^{\\bar{x}+a/2} \\\\ &= \\frac{1}{a}\\left( \\bar{x} + a/2 - (\\bar{x}) + a/2\\right)= 1/a \\times a = 1\\end{align*} Therefore, it is normalized."
   ]
  },
  {
   "cell_type": "markdown",
   "id": "716c75f1",
   "metadata": {},
   "source": [
    "**(ii)** The mean of the distribution is indeed $\\bar{x}$."
   ]
  },
  {
   "cell_type": "markdown",
   "id": "3a389e70",
   "metadata": {},
   "source": [
    "Computing $\\langle x \\rangle$ we get:"
   ]
  },
  {
   "cell_type": "markdown",
   "id": "509e9571",
   "metadata": {},
   "source": [
    "\\begin{align*} \\langle x \\rangle &= \\int_{\\mathbb{R}} xP_{U}(x;\\bar{x},a) \\text{d}x \\\\ &= \\int_{\\bar{x}-a/2}^{\\bar{x}+a/2} \\frac{x}{a} \\text{d}x\\\\ &= \\left[ \\frac{x^2}{2a}\\right]_{\\bar{x}-a/2}^{\\bar{x}+a/2}\\\\ &= \\frac{1}{2a}\\left[ (\\bar{x} + a/2 )^2 - (\\bar{x}-a/2)^2\\right]\\\\\n",
    "&= \\frac{1}{2a}(\\bar{x}^2 +a\\bar{x}+a^2/4 - \\bar{x}^2 +a\\bar{x}-a^2/4)\\\\ &= \\frac{1}{2a}(2a\\bar{x}) = \\bar{x}\\end{align*}"
   ]
  },
  {
   "cell_type": "markdown",
   "id": "d4fb79f9",
   "metadata": {},
   "source": [
    "**(iii)** The standard deviation is given by $\\sigma = \\frac{a}{\\sqrt{12}}$."
   ]
  },
  {
   "cell_type": "markdown",
   "id": "a5859d0a",
   "metadata": {},
   "source": [
    "In order to compute the standard deviation we gotta compute, first, $\\langle x^2 \\rangle$ like this:"
   ]
  },
  {
   "cell_type": "markdown",
   "id": "9e007685",
   "metadata": {},
   "source": [
    "\\begin{align*} \\langle x^2 \\rangle &= \\int_{\\mathbb{R}} x^2P_{U}(x;\\bar{x},a)\\text{d}x\\\\ &= \\frac{1}{a}\\int_{\\bar{x}-a/2}^{\\bar{x}+a/2}x^2\\text{d}x \\\\ &= \\frac{1}{3a}\\left[ x^3\\right]_{\\bar{x}-a/2}^{\\bar{x}+a/2}\\\\ &= \\frac{1}{3a}\\left( \\bar{x}^3 + \\frac{3}{2}a\\bar{x}^2+\\frac{3}{4}a^2\\bar{x} + \\frac{a^3}{8}-\\bar{x}^3 + \\frac{3}{2}a\\bar{x}^2-\\frac{3}{4}a^2\\bar{x} + \\frac{a^3}{8}\\right)\\\\ &= \\frac{1}{3a}\\left( 3a\\bar{x}^2 + \\frac{1}{4}a^3\\right) \\\\ &= \\bar{x}^2 + \\frac{a^2}{12}\\end{align*}"
   ]
  },
  {
   "cell_type": "markdown",
   "id": "4deb55e0",
   "metadata": {},
   "source": [
    "computing \\begin{align*} \\sigma^2 &= \\langle x^2\\rangle - \\langle x\\rangle^2 \\\\ &= \\bar{x}^2 + \\frac{a^2}{12} - \\bar{x}^2 \\\\ &= \\frac{a^2}{12}\\end{align*}"
   ]
  },
  {
   "cell_type": "markdown",
   "id": "4e9d588d",
   "metadata": {},
   "source": [
    "then $\\sigma = \\frac{a}{\\sqrt{12}}$."
   ]
  },
  {
   "cell_type": "markdown",
   "id": "40ba8359",
   "metadata": {},
   "source": [
    "----------"
   ]
  },
  {
   "cell_type": "markdown",
   "id": "54e517d4",
   "metadata": {},
   "source": [
    "_Confidence limits for a Gaußian distribution_"
   ]
  },
  {
   "cell_type": "markdown",
   "id": "cfac2b4e",
   "metadata": {},
   "source": [
    "Verify the results of Table 3.1 for the fraction of the data which lies within different ranges of a Gaußian probability distribution function."
   ]
  },
  {
   "cell_type": "markdown",
   "id": "baa2f49e",
   "metadata": {},
   "source": []
  },
  {
   "cell_type": "markdown",
   "id": "e55e4235",
   "metadata": {},
   "source": [
    "What fraction of the data lies outisde the following ranges from the mean?"
   ]
  },
  {
   "cell_type": "markdown",
   "id": "615180a1",
   "metadata": {},
   "source": [
    "**(i)** $\\pm 4\\sigma$:"
   ]
  },
  {
   "cell_type": "markdown",
   "id": "8230d8fe",
   "metadata": {},
   "source": [
    "**(ii)** $\\pm 5\\sigma$"
   ]
  },
  {
   "cell_type": "markdown",
   "id": "b18113e8",
   "metadata": {},
   "source": [
    "What is the (symmetric) range within which the following fractions of the data lie?"
   ]
  },
  {
   "cell_type": "markdown",
   "id": "a29ac22d",
   "metadata": {},
   "source": [
    "**(i)** 50%:"
   ]
  },
  {
   "cell_type": "markdown",
   "id": "70b4415f",
   "metadata": {},
   "source": [
    "**(ii)** 99.9%"
   ]
  },
  {
   "cell_type": "code",
   "execution_count": null,
   "id": "889aebae",
   "metadata": {},
   "outputs": [],
   "source": []
  }
 ],
 "metadata": {
  "kernelspec": {
   "display_name": "Python 3 (ipykernel)",
   "language": "python",
   "name": "python3"
  },
  "language_info": {
   "codemirror_mode": {
    "name": "ipython",
    "version": 3
   },
   "file_extension": ".py",
   "mimetype": "text/x-python",
   "name": "python",
   "nbconvert_exporter": "python",
   "pygments_lexer": "ipython3",
   "version": "3.9.13"
  }
 },
 "nbformat": 4,
 "nbformat_minor": 5
}
