{
 "cells": [
  {
   "cell_type": "markdown",
   "id": "22f8b9ce",
   "metadata": {},
   "source": [
    "# Tarea 4. Estadística\n",
    "Katherin A. Murcia S. y Juan Carlos Rojas V."
   ]
  },
  {
   "cell_type": "code",
   "execution_count": 37,
   "id": "e6f26c0a",
   "metadata": {},
   "outputs": [],
   "source": [
    "import numpy as np\n",
    "import matplotlib.pyplot as plt\n",
    "import sympy as sym\n",
    "import math_utilities\n",
    "import pandas as pd\n",
    "from matplotlib import rc\n",
    "rc('font', **{'family': 'serif', 'serif': ['Computer Modern'], 'size': 14})\n",
    "rc('text',usetex=True)"
   ]
  },
  {
   "cell_type": "markdown",
   "id": "be395273",
   "metadata": {},
   "source": [
    "_Geometry of the best-fit straight line_ "
   ]
  },
  {
   "cell_type": "markdown",
   "id": "aac72f54",
   "metadata": {},
   "source": [
    "Show, using equations $$m = \\frac{N \\sum_{i}x_iy_i - \\sum_{i=1}x_i\\sum_{i=1}y_i}{\\Delta}$$ and $$c = \\frac{\\sum_{i=1}x_i^2\\sum_{i=1}y_i - \\sum_{i=1}x_i\\sum_{i=1}x_iy_i}{\\Delta},$$ that the line of the best fit goes through the point $(\\bar{x},\\bar{y})$."
   ]
  },
  {
   "cell_type": "markdown",
   "id": "0bd6290b",
   "metadata": {},
   "source": [
    "Teniendo en cuenta que la ecuación de la recta de mejor fit sigue la forma \n",
    "$$y = mx + c,$$ sería suficiente con ver que, al poner como argumento $\\bar{x}$, se obtiene $\\bar{y}$. Se sigue que:"
   ]
  },
  {
   "cell_type": "markdown",
   "id": "ca21d6cc",
   "metadata": {},
   "source": [
    "\\begin{align*}\n",
    "y(\\bar{x}) &= \\left(\\frac{N \\sum_{i}x_iy_i - \\sum_{i=1}x_i\\sum_{i=1}y_i}{\\Delta}\\right)\\left( \\frac{\\sum_{i=1}x_i}{N}\\right) + \\frac{\\sum_{i=1}x_i^2\\sum_{i=1}y_i - \\sum_{i=1}x_i\\sum_{i=1}x_iy_i}{\\Delta} \\\\\n",
    "&= \\frac{1}{N\\Delta}\\left( N\\sum_{i=1}x_i\\sum_{i=1}x_iy_i - \\left( \\sum_{i=1}x_i\\right)^2\\sum_{i=1}y_i + N\\sum_{i=1}x_i^2\\sum_{i=1}y_i -N\\sum_{i=1}x_i\\sum_{i=1}x_iy_i\\right)\\\\\n",
    "&= \\frac{1}{N\\Delta} \\left( N\\sum_{i=1}x_i^2 - \\left( \\sum_{i=1}x_i\\right)^2\\right)\\sum_{i=1}y_i\\\\\n",
    "&= \\frac{\\sum_{i=1}y_i}{N} = \\bar{y}\n",
    "\\end{align*}"
   ]
  },
  {
   "cell_type": "markdown",
   "id": "fea4bf53",
   "metadata": {},
   "source": [
    "Se demuestra, entonces, que si se tiene $\\bar{x}$ como argumento, se obtendrá $\\bar{y}$. Por tanto, la línea, en efecto, pasa por el punto $(\\bar{x},\\bar{y})$."
   ]
  },
  {
   "cell_type": "markdown",
   "id": "79c989b9",
   "metadata": {},
   "source": [
    "----"
   ]
  },
  {
   "cell_type": "markdown",
   "id": "0b8c9156",
   "metadata": {},
   "source": [
    "_Best-fit straight line - an unweighted fit_"
   ]
  },
  {
   "cell_type": "markdown",
   "id": "379825b9",
   "metadata": {},
   "source": [
    "The data listed below come from an experiment to verify Ohm's law. The voltage across a resistor (the dependent variable) was measured as a function of the current flowing (the independent variable). The precision of the voltimeter was $0.01 \\text{ mV}$, and the uncertainty in the current was negligible."
   ]
  },
  {
   "cell_type": "code",
   "execution_count": 38,
   "id": "c3c412fb",
   "metadata": {},
   "outputs": [
    {
     "data": {
      "text/html": [
       "<div>\n",
       "<style scoped>\n",
       "    .dataframe tbody tr th:only-of-type {\n",
       "        vertical-align: middle;\n",
       "    }\n",
       "\n",
       "    .dataframe tbody tr th {\n",
       "        vertical-align: top;\n",
       "    }\n",
       "\n",
       "    .dataframe thead th {\n",
       "        text-align: right;\n",
       "    }\n",
       "</style>\n",
       "<table border=\"1\" class=\"dataframe\">\n",
       "  <thead>\n",
       "    <tr style=\"text-align: right;\">\n",
       "      <th></th>\n",
       "      <th>0</th>\n",
       "      <th>1</th>\n",
       "      <th>2</th>\n",
       "      <th>3</th>\n",
       "      <th>4</th>\n",
       "      <th>5</th>\n",
       "      <th>6</th>\n",
       "      <th>7</th>\n",
       "      <th>8</th>\n",
       "    </tr>\n",
       "  </thead>\n",
       "  <tbody>\n",
       "    <tr>\n",
       "      <th>Current [$\\mu \\text{A}$]:</th>\n",
       "      <td>10.00</td>\n",
       "      <td>20.00</td>\n",
       "      <td>30.00</td>\n",
       "      <td>40.00</td>\n",
       "      <td>50.00</td>\n",
       "      <td>60.00</td>\n",
       "      <td>70.00</td>\n",
       "      <td>80.00</td>\n",
       "      <td>90.00</td>\n",
       "    </tr>\n",
       "    <tr>\n",
       "      <th>Voltage [$\\text{mV}$]</th>\n",
       "      <td>0.98</td>\n",
       "      <td>1.98</td>\n",
       "      <td>2.98</td>\n",
       "      <td>3.97</td>\n",
       "      <td>4.95</td>\n",
       "      <td>5.95</td>\n",
       "      <td>6.93</td>\n",
       "      <td>7.93</td>\n",
       "      <td>8.91</td>\n",
       "    </tr>\n",
       "  </tbody>\n",
       "</table>\n",
       "</div>"
      ],
      "text/plain": [
       "                               0      1      2      3      4      5      6  \\\n",
       "Current [$\\mu \\text{A}$]:  10.00  20.00  30.00  40.00  50.00  60.00  70.00   \n",
       "Voltage [$\\text{mV}$]       0.98   1.98   2.98   3.97   4.95   5.95   6.93   \n",
       "\n",
       "                               7      8  \n",
       "Current [$\\mu \\text{A}$]:  80.00  90.00  \n",
       "Voltage [$\\text{mV}$]       7.93   8.91  "
      ]
     },
     "execution_count": 38,
     "metadata": {},
     "output_type": "execute_result"
    }
   ],
   "source": [
    "voltage = np.array([0.98,1.98,2.98,3.97,4.95,5.95,6.93,7.93,8.91])\n",
    "current = np.array([10,20,30,40,50,60,70,80,90])\n",
    "\n",
    "Table = pd.DataFrame({r\"Current [$\\mu \\text{A}$]:\":current,r\"Voltage [$\\text{mV}$]\":voltage})\n",
    "Table.T"
   ]
  },
  {
   "cell_type": "markdown",
   "id": "dd6bee52",
   "metadata": {},
   "source": [
    "**(i)** Use the results of Section 5.2.1 to calculate the unweighted best-fit gradient and intercept, and their uncertanties."
   ]
  },
  {
   "cell_type": "markdown",
   "id": "73ab39d2",
   "metadata": {},
   "source": [
    "Usando los resultados y las ecuaciones 5.1, 5.2 , 5.3, 5.4, 5.5  y 5.6 de la misma sección se obtiene que"
   ]
  },
  {
   "cell_type": "code",
   "execution_count": 39,
   "id": "45e56f2e",
   "metadata": {},
   "outputs": [],
   "source": [
    "def linear_unw_regression(x_data: np.array, y_data: np.array):\n",
    "    N = len(x_data) # Número de datos\n",
    "    Delta = N*np.sum(x_data**2) - np.sum(x_data)**2 #Cantidad que servirá de denominador\n",
    "    m = (N*np.sum(x_data*y_data) - np.sum(x_data)*np.sum(y_data))/Delta # Pendiente del ajuste\n",
    "    b = (np.sum(x_data**2)*np.sum(y_data) - np.sum(x_data)*np.sum(x_data*y_data))/Delta # Intercepto del ajuste\n",
    "    uncer_CU = np.sqrt((np.sum(y_data - m*x_data - b)**2)/(N-2)) # Incertidumbre común\n",
    "    uncer_b = uncer_CU*np.sqrt(np.sum(x_data**2)/Delta) # Incertidumbre del intercepto\n",
    "    uncer_m = uncer_CU*np.sqrt(N/Delta) # Incertidumbre de la pendiente\n",
    "    \n",
    "    return np.array([m,uncer_m,b,uncer_b,uncer_CU])"
   ]
  },
  {
   "cell_type": "code",
   "execution_count": 40,
   "id": "9cb47873",
   "metadata": {},
   "outputs": [
    {
     "data": {
      "text/plain": [
       "(np.float64(0.09908333333333333),\n",
       " np.float64(1.1621873603747669e-17),\n",
       " np.float64(-0.0008333333333333334),\n",
       " np.float64(6.539993597306053e-16),\n",
       " np.float64(9.00226458380846e-16))"
      ]
     },
     "execution_count": 40,
     "metadata": {},
     "output_type": "execute_result"
    }
   ],
   "source": [
    "m,un_m,b,un_b,un_CM = linear_unw_regression(current,voltage)\n",
    "m,un_m,b,un_b,un_CM"
   ]
  },
  {
   "cell_type": "markdown",
   "id": "9eceb703",
   "metadata": {},
   "source": [
    "Por tanto $m = 0.09908$, $\\sigma_{m} = 1.162\\times10^{-17}$, $b = -0.000833$ y $\\sigma_b=6.54\\times10^{-16}$"
   ]
  },
  {
   "cell_type": "markdown",
   "id": "13407174",
   "metadata": {},
   "source": [
    "**(ii)** Calculate the common uncertainty and compare the value with the experimental uncertainty."
   ]
  },
  {
   "cell_type": "markdown",
   "id": "c653feb0",
   "metadata": {},
   "source": [
    "La incertidumbre conjunta fue calculada anteriormente, se obtuvo un valor de:"
   ]
  },
  {
   "cell_type": "code",
   "execution_count": 50,
   "id": "92ff82d1",
   "metadata": {},
   "outputs": [
    {
     "data": {
      "text/plain": [
       "9.00226458380846e-16"
      ]
     },
     "execution_count": 50,
     "metadata": {},
     "output_type": "execute_result"
    }
   ],
   "source": [
    "float(un_CM)"
   ]
  },
  {
   "cell_type": "markdown",
   "id": "2ac8617c",
   "metadata": {},
   "source": [
    "El cual es al menos 14 órdenes de magnitud menor al experimental reportado en el experimento."
   ]
  },
  {
   "cell_type": "markdown",
   "id": "15432c1a",
   "metadata": {},
   "source": [
    "**(iii)** Plot a graph of the data and add the best-fit\n",
    "straight line."
   ]
  },
  {
   "cell_type": "code",
   "execution_count": 51,
   "id": "838d8aef",
   "metadata": {},
   "outputs": [],
   "source": [
    "current_linspace = np.linspace(0,100,500)\n",
    "voltaje_regressed = m*current_linspace + b"
   ]
  },
  {
   "cell_type": "code",
   "execution_count": 52,
   "id": "e657c170",
   "metadata": {},
   "outputs": [
    {
     "data": {
      "image/png": "[encoded data removed]",
      "text/plain": [
       "<Figure size 640x480 with 1 Axes>"
      ]
     },
     "metadata": {},
     "output_type": "display_data"
    }
   ],
   "source": [
    "plt.errorbar(current,voltage,yerr=0.01,label = \"Datos\",capsize=4)\n",
    "plt.plot(current_linspace,voltaje_regressed,label=r\"Regresión $V(I) = 0.099I -0.000833$\")\n",
    "plt.xlabel(r\"Corriente $I$ [$\\mu$A]\")\n",
    "plt.ylabel(r\"Voltaje $V(I)$ [mV]\")\n",
    "plt.legend()\n",
    "plt.grid()\n"
   ]
  },
  {
   "cell_type": "markdown",
   "id": "5fdadbcf",
   "metadata": {},
   "source": [
    "**(iv)** Calculate the residuals, and comment\n",
    "on their magnitudes."
   ]
  },
  {
   "cell_type": "code",
   "execution_count": 55,
   "id": "961e71cb",
   "metadata": {},
   "outputs": [],
   "source": [
    "residuals = voltage - (m*current + b)"
   ]
  },
  {
   "cell_type": "code",
   "execution_count": 58,
   "id": "f46728ae",
   "metadata": {},
   "outputs": [
    {
     "data": {
      "image/png": "[encoded data removed]",
      "text/plain": [
       "<Figure size 640x480 with 1 Axes>"
      ]
     },
     "metadata": {},
     "output_type": "display_data"
    }
   ],
   "source": [
    "plt.scatter(current,residuals)\n",
    "plt.xlabel(r\"Corriente $I$ [$\\mu$A]\")\n",
    "plt.ylabel(r\"Residuales [mV]\")\n",
    "plt.grid()"
   ]
  },
  {
   "cell_type": "markdown",
   "id": "35804b88",
   "metadata": {},
   "source": [
    "Como se puede ver, los residuales se encuentran oscilando de manera aleatoria entre alrededor de cero. Y su magnitud es un orden de magnitud por debajo de la incertidumbre experimental."
   ]
  },
  {
   "cell_type": "code",
   "execution_count": null,
   "id": "307459a0",
   "metadata": {},
   "outputs": [],
   "source": []
  }
 ],
 "metadata": {
  "kernelspec": {
   "display_name": "Python 3 (ipykernel)",
   "language": "python",
   "name": "python3"
  },
  "language_info": {
   "codemirror_mode": {
    "name": "ipython",
    "version": 3
   },
   "file_extension": ".py",
   "mimetype": "text/x-python",
   "name": "python",
   "nbconvert_exporter": "python",
   "pygments_lexer": "ipython3",
   "version": "3.9.13"
  }
 },
 "nbformat": 4,
 "nbformat_minor": 5
}
