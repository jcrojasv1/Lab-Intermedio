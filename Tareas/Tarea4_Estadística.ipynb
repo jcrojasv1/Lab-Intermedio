{
 "cells": [
  {
   "cell_type": "markdown",
   "id": "22f8b9ce",
   "metadata": {},
   "source": [
    "# Tarea 4. Estadística\n",
    "Katherin A. Murcia S. y Juan Carlos Rojas V."
   ]
  },
  {
   "cell_type": "code",
   "execution_count": 1,
   "id": "e6f26c0a",
   "metadata": {},
   "outputs": [],
   "source": [
    "import numpy as np\n",
    "import matplotlib.pyplot as plt\n",
    "import sympy as sym"
   ]
  },
  {
   "cell_type": "markdown",
   "id": "be395273",
   "metadata": {},
   "source": [
    "_Geometry of the best-fit straight line_ "
   ]
  },
  {
   "cell_type": "markdown",
   "id": "aac72f54",
   "metadata": {},
   "source": [
    "Show, using equations $$m = \\frac{N \\sum_{i}x_iy_i - \\sum_{i=1}x_i\\sum_{i=1}y_i}{\\Delta}$$ and $$c = \\frac{\\sum_{i=1}x_i^2\\sum_{i=1}y_i - \\sum_{i=1}x_i\\sum_{i=1}x_iy_i}{\\Delta},$$ that the line of the best fit goes through the point $(\\bar{x},\\bar{y})$."
   ]
  },
  {
   "cell_type": "markdown",
   "id": "0bd6290b",
   "metadata": {},
   "source": [
    "Teniendo en cuenta que la ecuación de la recta de mejor fit sigue la forma \n",
    "$$y = mx + c,$$ sería suficiente con ver que, al poner como argumento $\\bar{x}$, se obtiene $\\bar{y}$. Se sigue que:"
   ]
  },
  {
   "cell_type": "markdown",
   "id": "ca21d6cc",
   "metadata": {},
   "source": [
    "\\begin{align*}\n",
    "y(\\bar{x}) &= \\left(\\frac{N \\sum_{i}x_iy_i - \\sum_{i=1}x_i\\sum_{i=1}y_i}{\\Delta}\\right)\\left( \\frac{\\sum_{i=1}x_i}{N}\\right) + \\frac{\\sum_{i=1}x_i^2\\sum_{i=1}y_i - \\sum_{i=1}x_i\\sum_{i=1}x_iy_i}{\\Delta} \\\\\n",
    "&= \\frac{1}{N\\Delta}\\left( N\\sum_{i=1}x_i\\sum_{i=1}x_iy_i - \\left( \\sum_{i=1}x_i\\right)^2\\sum_{i=1}y_i + N\\sum_{i=1}x_i^2\\sum_{i=1}y_i -N\\sum_{i=1}x_i\\sum_{i=1}x_iy_i\\right)\\\\\n",
    "&= \\frac{1}{N\\Delta} \\left( N\\sum_{i=1}x_i^2 - \\left( \\sum_{i=1}x_i\\right)^2\\right)\\sum_{i=1}y_i\\\\\n",
    "&= \\frac{\\sum_{i=1}y_i}{N} = \\bar{y}\n",
    "\\end{align*}"
   ]
  },
  {
   "cell_type": "markdown",
   "id": "fea4bf53",
   "metadata": {},
   "source": [
    "Se demuestra, entonces, que si se tiene $\\bar{x}$ como argumento, se obtendrá $\\bar{y}$. Por tanto, la línea, en efecto, pasa por el punto $(\\bar{x},\\bar{y})$."
   ]
  },
  {
   "cell_type": "code",
   "execution_count": null,
   "id": "b0e16598",
   "metadata": {},
   "outputs": [],
   "source": []
  }
 ],
 "metadata": {
  "kernelspec": {
   "display_name": "Python 3 (ipykernel)",
   "language": "python",
   "name": "python3"
  },
  "language_info": {
   "codemirror_mode": {
    "name": "ipython",
    "version": 3
   },
   "file_extension": ".py",
   "mimetype": "text/x-python",
   "name": "python",
   "nbconvert_exporter": "python",
   "pygments_lexer": "ipython3",
   "version": "3.9.13"
  }
 },
 "nbformat": 4,
 "nbformat_minor": 5
}
