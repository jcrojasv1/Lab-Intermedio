{
 "cells": [
  {
   "cell_type": "markdown",
   "id": "22f8b9ce",
   "metadata": {},
   "source": [
    "# Tarea 1. Estadística\n",
    "Katherin A. Murcia S. y Juan Carlos Rojas V."
   ]
  },
  {
   "cell_type": "code",
   "execution_count": 1,
   "id": "e6f26c0a",
   "metadata": {},
   "outputs": [],
   "source": [
    "import numpy as np\n",
    "import matplotlib.pyplot as plt\n",
    "import pandas as pd"
   ]
  },
  {
   "cell_type": "markdown",
   "id": "72a15806",
   "metadata": {},
   "source": [
    "**1.** _Mean, standard deviation and standard error_ \n",
    "\n",
    "An experiment was conducted to determine the concentration of a sodium hydroxide solution. The eight repeat measurements of the volume of hydrochloric acid titrated (al in mL) are: 25.8,26.2,26.0,26.5,25.8,26.1,25.8 and 26.3. Calculate **(i)** the mean, **(ii)** the standard deviation using the rough-and-ready approach; **(iii)** the standard deviation using equation (2.3); **(iv)** the standard error of the volume."
   ]
  },
  {
   "cell_type": "markdown",
   "id": "453c9df9",
   "metadata": {},
   "source": [
    "## Solución:"
   ]
  },
  {
   "cell_type": "markdown",
   "id": "1c09b8e1",
   "metadata": {},
   "source": [
    "**(i)** Para hallar el valor promedio de la medición de concentración de ácido clorhídrico en mL se debe usar la fórmula $$\\bar{x} = \\frac{1}{N} \\sum_{i=1}^{N} x_i$$ donde $N$ es el número de volúmenes medidos y $x_i$ son las medidas tomadas."
   ]
  },
  {
   "cell_type": "code",
   "execution_count": 31,
   "id": "1b734d7c",
   "metadata": {},
   "outputs": [
    {
     "data": {
      "text/plain": [
       "26.0625"
      ]
     },
     "execution_count": 31,
     "metadata": {},
     "output_type": "execute_result"
    }
   ],
   "source": [
    "# Generación de la lista de datos\n",
    "V = np.array([25.8,26.2,26.0,26.5,25.8,26.1,25.8,26.3]) # en mL\n",
    "\n",
    "# Número de datos tomados\n",
    "N = len(V)\n",
    "\n",
    "\"\"\"\n",
    "Usando la función np.sum() se hará la sumatoria de los datos sobre la lista\n",
    "de datos V y luego dividir por el número de datos N. Así:\n",
    "\"\"\"\n",
    "\n",
    "mean_value = np.sum(V)/N\n",
    "mean_value"
   ]
  },
  {
   "cell_type": "markdown",
   "id": "8e712dd1",
   "metadata": {},
   "source": [
    "Por lo tanto el valor medio de los volúmenes de ácido clorhídrico es de $26.1 \\ \\text{mL}$."
   ]
  },
  {
   "cell_type": "markdown",
   "id": "7083669e",
   "metadata": {},
   "source": [
    "**(ii)** Para encontrar la desviación estándar usando el _método tosco_ se debe utilizar el spread entre el valor medio y valor máximo o mínimo de la lista de datos y luego multiplicar este valor por $2/3$. Por tanto, se calcula la spread máximo $d_{\\text{máx}} = \\bar{x} - x_{\\text{mín}}$ o $ d_{\\text{máx}}= x_{\\text{máx}} - \\bar{x}$"
   ]
  },
  {
   "cell_type": "code",
   "execution_count": 3,
   "id": "6c7fb165",
   "metadata": {},
   "outputs": [
    {
     "data": {
      "text/plain": [
       "(26.5, 25.8)"
      ]
     },
     "execution_count": 3,
     "metadata": {},
     "output_type": "execute_result"
    }
   ],
   "source": [
    "#Cálculo del valor mínimo y máximo de la lista de datos\n",
    "x_max,x_min = np.max(V),np.min(V)\n",
    "x_max,x_min"
   ]
  },
  {
   "cell_type": "code",
   "execution_count": 4,
   "id": "cfabc6b6",
   "metadata": {},
   "outputs": [
    {
     "data": {
      "text/plain": [
       "(0.2624999999999993, 0.4375)"
      ]
     },
     "execution_count": 4,
     "metadata": {},
     "output_type": "execute_result"
    }
   ],
   "source": [
    "#Cálculos del spread máximo por con el valor mínimo y máximo de la lista.\n",
    "d1 = mean_value - x_min\n",
    "d2 = x_max - mean_value\n",
    "d1,d2"
   ]
  },
  {
   "cell_type": "markdown",
   "id": "37a1d4e3",
   "metadata": {},
   "source": [
    "Dado que spread máximo más grande es $0.4 \\text{ mL}$ este se tomará para calcular la desviación estandar así $\\sigma = \\frac{2}{3} d_{\\text{máx}}$."
   ]
  },
  {
   "cell_type": "code",
   "execution_count": 33,
   "id": "62788679",
   "metadata": {},
   "outputs": [
    {
     "data": {
      "text/plain": [
       "0.29166666666666663"
      ]
     },
     "execution_count": 33,
     "metadata": {},
     "output_type": "execute_result"
    }
   ],
   "source": [
    "std_dev = (2/3)*d2\n",
    "std_dev"
   ]
  },
  {
   "cell_type": "markdown",
   "id": "531541fc",
   "metadata": {},
   "source": [
    "Por lo que la desviación estándar es de $0.3 \\ \\text{mL}$."
   ]
  },
  {
   "cell_type": "markdown",
   "id": "8e29449e",
   "metadata": {},
   "source": [
    "**(iii)** Para encontrar la desviación se utiliza la fórmula $$\\sigma_{N-1} = \\sqrt{\\frac{1}{N-1}\\sum_{i=1}^{N}d_i^2}$$ donde $d_i = x_i - \\bar{x}$."
   ]
  },
  {
   "cell_type": "code",
   "execution_count": 6,
   "id": "2233eddf",
   "metadata": {},
   "outputs": [
    {
     "name": "stdout",
     "output_type": "stream",
     "text": [
      "Lista de spreads para cada dato:[-0.2625  0.1375 -0.0625  0.4375 -0.2625  0.0375 -0.2625  0.2375]\n",
      "Lista de spreads al cuadrado para cada dato: [0.06890625 0.01890625 0.00390625 0.19140625 0.06890625 0.00140625\n",
      " 0.06890625 0.05640625]\n"
     ]
    }
   ],
   "source": [
    "# Generación de la lista de los spread para cada uno de los datos\n",
    "d_list = V - mean_value\n",
    "d_list\n",
    "print(\"Lista de spreads para cada dato:%s\"%( d_list))\n",
    "\n",
    "#Generación de lista de los spread elevados al cuadrado\n",
    "\n",
    "d_sqrd_list = d_list**2\n",
    "print(\"Lista de spreads al cuadrado para cada dato: %s\"%(d_sqrd_list))\n"
   ]
  },
  {
   "cell_type": "code",
   "execution_count": 7,
   "id": "b360963d",
   "metadata": {},
   "outputs": [
    {
     "data": {
      "text/plain": [
       "0.26152028055746845"
      ]
     },
     "execution_count": 7,
     "metadata": {},
     "output_type": "execute_result"
    }
   ],
   "source": [
    "# Calculo de la desviación estándar por medio de la fórmula\n",
    "std_dev_real = np.sqrt((1/(N-1))*np.sum(d_sqrd_list))\n",
    "std_dev_real"
   ]
  },
  {
   "cell_type": "markdown",
   "id": "0d5faaa8",
   "metadata": {},
   "source": [
    "Por lo tanto la desviación estándar es $\\sigma = 0.3\\ \\text{mL}$."
   ]
  },
  {
   "cell_type": "markdown",
   "id": "a08af89a",
   "metadata": {},
   "source": [
    "**(iv)** Para hallar el error en la medición de los volúmenes está dado por $$\\alpha = \\frac{\\sigma_{N-1}}{\\sqrt{N}}$$ por lo que el error está dado por:"
   ]
  },
  {
   "cell_type": "code",
   "execution_count": 8,
   "id": "9931fddc",
   "metadata": {},
   "outputs": [
    {
     "data": {
      "text/plain": [
       "0.09246138189999717"
      ]
     },
     "execution_count": 8,
     "metadata": {},
     "output_type": "execute_result"
    }
   ],
   "source": [
    "# Calculo del error estándar de los volúmenes\n",
    "alpha = std_dev_real/np.sqrt(N)\n",
    "alpha"
   ]
  },
  {
   "cell_type": "markdown",
   "id": "14531599",
   "metadata": {},
   "source": [
    "Por tanto el error estándar está dado por $\\alpha = 0.09$"
   ]
  },
  {
   "cell_type": "markdown",
   "id": "f11a4cfa",
   "metadata": {},
   "source": [
    "---------"
   ]
  },
  {
   "cell_type": "markdown",
   "id": "5bf5c469",
   "metadata": {},
   "source": [
    "**2.** _Reduction of the standard error_\n",
    "\n",
    "In a magnetometry experiment, after a minute of collecting data the statistical noise was reduced to 1 picotesla. For how much longer should data be collected in order to reduce the random error by a factor of 10?"
   ]
  },
  {
   "cell_type": "markdown",
   "id": "2b5f4594",
   "metadata": {},
   "source": [
    "## Solución:"
   ]
  },
  {
   "cell_type": "markdown",
   "id": "fdbfb5cd",
   "metadata": {},
   "source": [
    "Suponiendo que la rata con la que se toman datos es constante y recordando la fórmula para la incertidumbre de la medida está dada por $$\\alpha = \\frac{\\sigma_{N-1}}{\\sqrt{N}}$$ Por lo que si se desea reducir el error por 10, entonces se tiene que, si $t$ es el tiempo que se hace las medidad y $M$ es la rata en que se miden los datos, se tiene que \\begin{align*} \\alpha' &= \\alpha\\times 10^{-1}\\\\ &= \\frac{1}{10}\\frac{\\sigma_{N-1}}{\\sqrt{N}} \\\\&= \\frac{\\sigma_{N-1}}{\\sqrt{100N}} \\\\&= \\frac{\\sigma_{N-1}}{\\sqrt{100t\\cdot M}}\\end{align*}\n",
    "Por lo que se debería hacer el experimento 100 veces más largo. Esto es, en vez de 1 min, se debería tomar por 100 min. Esto es una 1 hora y 40 minutos."
   ]
  },
  {
   "cell_type": "markdown",
   "id": "f822925c",
   "metadata": {},
   "source": [
    "**3.** _Error in the error_\n",
    "\n",
    "Consider a set of measurements with the standard error calculated to be $\\alpha = 0.987 \\,654 \\,321$. Here we address the question of how many significant figures should be quoted. Construct a spreadsheet with four columns. The first column should be $N$, the number of measurements on which $\\alpha$ is based. In the second column write $\\alpha$ to the nine significant figures quoted above. The third and fourth columns should be $\\alpha \\times \\left(1 - \\frac{1}{\\sqrt{2N-2}}\\right)$ and $\\alpha \\times \\left(1 + \\frac{1}{\\sqrt{2N-2}}\\right)$, respectively. As we are interested in the variation over a large dynamic range, choose values for $N$ such as 2, 3, 5, 10, 20, 30, etc. Verify the statement from Section 2.7.1 that the number of data points, $N$, needs to approach a few tens of thousands before the second significant figure in the error can be quoted, i.e. when the values in the three columns become equal to the second significant figure. Repeat the analysis for the case where $\\alpha = 0.123 \\,456 \\,789$, i.e. the first significant digit of the error is 1. How many data points must be collected before the third significant figure can be quoted?\n"
   ]
  },
  {
   "cell_type": "markdown",
   "id": "981e30a4",
   "metadata": {},
   "source": [
    "## Solución:"
   ]
  },
  {
   "cell_type": "code",
   "execution_count": 29,
   "id": "248643b4",
   "metadata": {},
   "outputs": [
    {
     "data": {
      "text/html": [
       "<div>\n",
       "<style scoped>\n",
       "    .dataframe tbody tr th:only-of-type {\n",
       "        vertical-align: middle;\n",
       "    }\n",
       "\n",
       "    .dataframe tbody tr th {\n",
       "        vertical-align: top;\n",
       "    }\n",
       "\n",
       "    .dataframe thead th {\n",
       "        text-align: right;\n",
       "    }\n",
       "</style>\n",
       "<table border=\"1\" class=\"dataframe\">\n",
       "  <thead>\n",
       "    <tr style=\"text-align: right;\">\n",
       "      <th></th>\n",
       "      <th>$N$</th>\n",
       "      <th>$\\alpha$</th>\n",
       "      <th>$\\alpha_{-}$</th>\n",
       "      <th>$\\alpha_{+}$</th>\n",
       "    </tr>\n",
       "  </thead>\n",
       "  <tbody>\n",
       "    <tr>\n",
       "      <th>0</th>\n",
       "      <td>5</td>\n",
       "      <td>0.123457</td>\n",
       "      <td>0.64</td>\n",
       "      <td>1.34</td>\n",
       "    </tr>\n",
       "    <tr>\n",
       "      <th>1</th>\n",
       "      <td>10</td>\n",
       "      <td>0.123457</td>\n",
       "      <td>0.75</td>\n",
       "      <td>1.22</td>\n",
       "    </tr>\n",
       "    <tr>\n",
       "      <th>2</th>\n",
       "      <td>20</td>\n",
       "      <td>0.123457</td>\n",
       "      <td>0.83</td>\n",
       "      <td>1.15</td>\n",
       "    </tr>\n",
       "    <tr>\n",
       "      <th>3</th>\n",
       "      <td>50</td>\n",
       "      <td>0.123457</td>\n",
       "      <td>0.89</td>\n",
       "      <td>1.09</td>\n",
       "    </tr>\n",
       "    <tr>\n",
       "      <th>4</th>\n",
       "      <td>100</td>\n",
       "      <td>0.123457</td>\n",
       "      <td>0.92</td>\n",
       "      <td>1.06</td>\n",
       "    </tr>\n",
       "    <tr>\n",
       "      <th>5</th>\n",
       "      <td>500</td>\n",
       "      <td>0.123457</td>\n",
       "      <td>0.96</td>\n",
       "      <td>1.02</td>\n",
       "    </tr>\n",
       "    <tr>\n",
       "      <th>6</th>\n",
       "      <td>1000</td>\n",
       "      <td>0.123457</td>\n",
       "      <td>0.97</td>\n",
       "      <td>1.01</td>\n",
       "    </tr>\n",
       "    <tr>\n",
       "      <th>7</th>\n",
       "      <td>5250</td>\n",
       "      <td>0.123457</td>\n",
       "      <td>0.98</td>\n",
       "      <td>1.00</td>\n",
       "    </tr>\n",
       "    <tr>\n",
       "      <th>8</th>\n",
       "      <td>7500</td>\n",
       "      <td>0.123457</td>\n",
       "      <td>0.98</td>\n",
       "      <td>1.00</td>\n",
       "    </tr>\n",
       "    <tr>\n",
       "      <th>9</th>\n",
       "      <td>10000</td>\n",
       "      <td>0.123457</td>\n",
       "      <td>0.98</td>\n",
       "      <td>0.99</td>\n",
       "    </tr>\n",
       "    <tr>\n",
       "      <th>10</th>\n",
       "      <td>12000</td>\n",
       "      <td>0.123457</td>\n",
       "      <td>0.98</td>\n",
       "      <td>0.99</td>\n",
       "    </tr>\n",
       "    <tr>\n",
       "      <th>11</th>\n",
       "      <td>15000</td>\n",
       "      <td>0.123457</td>\n",
       "      <td>0.98</td>\n",
       "      <td>0.99</td>\n",
       "    </tr>\n",
       "    <tr>\n",
       "      <th>12</th>\n",
       "      <td>30000</td>\n",
       "      <td>0.123457</td>\n",
       "      <td>0.98</td>\n",
       "      <td>0.99</td>\n",
       "    </tr>\n",
       "    <tr>\n",
       "      <th>13</th>\n",
       "      <td>30000</td>\n",
       "      <td>0.123457</td>\n",
       "      <td>0.98</td>\n",
       "      <td>0.99</td>\n",
       "    </tr>\n",
       "    <tr>\n",
       "      <th>14</th>\n",
       "      <td>50000</td>\n",
       "      <td>0.123457</td>\n",
       "      <td>0.98</td>\n",
       "      <td>0.99</td>\n",
       "    </tr>\n",
       "    <tr>\n",
       "      <th>15</th>\n",
       "      <td>69500</td>\n",
       "      <td>0.123457</td>\n",
       "      <td>0.99</td>\n",
       "      <td>0.99</td>\n",
       "    </tr>\n",
       "    <tr>\n",
       "      <th>16</th>\n",
       "      <td>700000</td>\n",
       "      <td>0.123457</td>\n",
       "      <td>0.99</td>\n",
       "      <td>0.99</td>\n",
       "    </tr>\n",
       "  </tbody>\n",
       "</table>\n",
       "</div>"
      ],
      "text/plain": [
       "       $N$  $\\alpha$  $\\alpha_{-}$  $\\alpha_{+}$\n",
       "0        5  0.123457          0.64          1.34\n",
       "1       10  0.123457          0.75          1.22\n",
       "2       20  0.123457          0.83          1.15\n",
       "3       50  0.123457          0.89          1.09\n",
       "4      100  0.123457          0.92          1.06\n",
       "5      500  0.123457          0.96          1.02\n",
       "6     1000  0.123457          0.97          1.01\n",
       "7     5250  0.123457          0.98          1.00\n",
       "8     7500  0.123457          0.98          1.00\n",
       "9    10000  0.123457          0.98          0.99\n",
       "10   12000  0.123457          0.98          0.99\n",
       "11   15000  0.123457          0.98          0.99\n",
       "12   30000  0.123457          0.98          0.99\n",
       "13   30000  0.123457          0.98          0.99\n",
       "14   50000  0.123457          0.98          0.99\n",
       "15   69500  0.123457          0.99          0.99\n",
       "16  700000  0.123457          0.99          0.99"
      ]
     },
     "execution_count": 29,
     "metadata": {},
     "output_type": "execute_result"
    }
   ],
   "source": [
    "# Generación de lista de números y error en el error.\n",
    "N_ = np.array([5,10,20,50,100,500,1000,5250,7500,10000,12000,15000,30000,30000,50000,69500,700000])\n",
    "alpha_ =0.987654321\n",
    "a_minus = np.round(alpha_*(1 - 1/(np.sqrt(2*N_-2))),2)\n",
    "a_plus = np.round(alpha_*(1 + 1/(np.sqrt(2*N_-2))),2)\n",
    "\n",
    "data_frame_1 = {r\"$N$\":N_,r\"$\\alpha$\":np.ones_like(N_)*0.123456789,r\"$\\alpha_{-}$\":a_minus,r\"$\\alpha_{+}$\":a_plus}\n",
    "\n",
    "data_F_1 = pd.DataFrame(data_frame_1)\n",
    "data_F_1"
   ]
  },
  {
   "cell_type": "markdown",
   "id": "8454ea51",
   "metadata": {},
   "source": [
    "El efecto mencionado en la sección se muestra cuando $N \\sim 70000$."
   ]
  },
  {
   "cell_type": "markdown",
   "id": "075f61ff",
   "metadata": {},
   "source": [
    "Para el otro error, se tiene que "
   ]
  },
  {
   "cell_type": "code",
   "execution_count": 20,
   "id": "bf2dbdeb",
   "metadata": {},
   "outputs": [
    {
     "data": {
      "text/html": [
       "<div>\n",
       "<style scoped>\n",
       "    .dataframe tbody tr th:only-of-type {\n",
       "        vertical-align: middle;\n",
       "    }\n",
       "\n",
       "    .dataframe tbody tr th {\n",
       "        vertical-align: top;\n",
       "    }\n",
       "\n",
       "    .dataframe thead th {\n",
       "        text-align: right;\n",
       "    }\n",
       "</style>\n",
       "<table border=\"1\" class=\"dataframe\">\n",
       "  <thead>\n",
       "    <tr style=\"text-align: right;\">\n",
       "      <th></th>\n",
       "      <th>$N$</th>\n",
       "      <th>$\\alpha$</th>\n",
       "      <th>$\\alpha_{-}$</th>\n",
       "      <th>$\\alpha_{+}$</th>\n",
       "    </tr>\n",
       "  </thead>\n",
       "  <tbody>\n",
       "    <tr>\n",
       "      <th>0</th>\n",
       "      <td>5</td>\n",
       "      <td>0.123457</td>\n",
       "      <td>0.080</td>\n",
       "      <td>0.167</td>\n",
       "    </tr>\n",
       "    <tr>\n",
       "      <th>1</th>\n",
       "      <td>10</td>\n",
       "      <td>0.123457</td>\n",
       "      <td>0.094</td>\n",
       "      <td>0.153</td>\n",
       "    </tr>\n",
       "    <tr>\n",
       "      <th>2</th>\n",
       "      <td>20</td>\n",
       "      <td>0.123457</td>\n",
       "      <td>0.103</td>\n",
       "      <td>0.143</td>\n",
       "    </tr>\n",
       "    <tr>\n",
       "      <th>3</th>\n",
       "      <td>50</td>\n",
       "      <td>0.123457</td>\n",
       "      <td>0.111</td>\n",
       "      <td>0.136</td>\n",
       "    </tr>\n",
       "    <tr>\n",
       "      <th>4</th>\n",
       "      <td>100</td>\n",
       "      <td>0.123457</td>\n",
       "      <td>0.115</td>\n",
       "      <td>0.132</td>\n",
       "    </tr>\n",
       "    <tr>\n",
       "      <th>5</th>\n",
       "      <td>500</td>\n",
       "      <td>0.123457</td>\n",
       "      <td>0.120</td>\n",
       "      <td>0.127</td>\n",
       "    </tr>\n",
       "    <tr>\n",
       "      <th>6</th>\n",
       "      <td>1000</td>\n",
       "      <td>0.123457</td>\n",
       "      <td>0.121</td>\n",
       "      <td>0.126</td>\n",
       "    </tr>\n",
       "    <tr>\n",
       "      <th>7</th>\n",
       "      <td>5250</td>\n",
       "      <td>0.123457</td>\n",
       "      <td>0.122</td>\n",
       "      <td>0.125</td>\n",
       "    </tr>\n",
       "    <tr>\n",
       "      <th>8</th>\n",
       "      <td>7500</td>\n",
       "      <td>0.123457</td>\n",
       "      <td>0.122</td>\n",
       "      <td>0.124</td>\n",
       "    </tr>\n",
       "    <tr>\n",
       "      <th>9</th>\n",
       "      <td>10000</td>\n",
       "      <td>0.123457</td>\n",
       "      <td>0.123</td>\n",
       "      <td>0.124</td>\n",
       "    </tr>\n",
       "    <tr>\n",
       "      <th>10</th>\n",
       "      <td>12000</td>\n",
       "      <td>0.123457</td>\n",
       "      <td>0.123</td>\n",
       "      <td>0.124</td>\n",
       "    </tr>\n",
       "    <tr>\n",
       "      <th>11</th>\n",
       "      <td>15000</td>\n",
       "      <td>0.123457</td>\n",
       "      <td>0.123</td>\n",
       "      <td>0.124</td>\n",
       "    </tr>\n",
       "    <tr>\n",
       "      <th>12</th>\n",
       "      <td>30000</td>\n",
       "      <td>0.123457</td>\n",
       "      <td>0.123</td>\n",
       "      <td>0.124</td>\n",
       "    </tr>\n",
       "    <tr>\n",
       "      <th>13</th>\n",
       "      <td>1000000</td>\n",
       "      <td>0.123457</td>\n",
       "      <td>0.123</td>\n",
       "      <td>0.124</td>\n",
       "    </tr>\n",
       "    <tr>\n",
       "      <th>14</th>\n",
       "      <td>11000000</td>\n",
       "      <td>0.123457</td>\n",
       "      <td>0.123</td>\n",
       "      <td>0.123</td>\n",
       "    </tr>\n",
       "  </tbody>\n",
       "</table>\n",
       "</div>"
      ],
      "text/plain": [
       "         $N$  $\\alpha$  $\\alpha_{-}$  $\\alpha_{+}$\n",
       "0          5  0.123457         0.080         0.167\n",
       "1         10  0.123457         0.094         0.153\n",
       "2         20  0.123457         0.103         0.143\n",
       "3         50  0.123457         0.111         0.136\n",
       "4        100  0.123457         0.115         0.132\n",
       "5        500  0.123457         0.120         0.127\n",
       "6       1000  0.123457         0.121         0.126\n",
       "7       5250  0.123457         0.122         0.125\n",
       "8       7500  0.123457         0.122         0.124\n",
       "9      10000  0.123457         0.123         0.124\n",
       "10     12000  0.123457         0.123         0.124\n",
       "11     15000  0.123457         0.123         0.124\n",
       "12     30000  0.123457         0.123         0.124\n",
       "13   1000000  0.123457         0.123         0.124\n",
       "14  11000000  0.123457         0.123         0.123"
      ]
     },
     "execution_count": 20,
     "metadata": {},
     "output_type": "execute_result"
    }
   ],
   "source": [
    "# Generación de lista de números y error en el error.\n",
    "N_2 = np.array([5,10,20,50,100,500,1000,5250,7500,10000,12000,15000,30000,1000000,11000000])\n",
    "alpha_2 =0.123456789\n",
    "a_minus = np.round(alpha_2*(1 - 1/(np.sqrt(2*N_-2))),3)\n",
    "a_plus = np.round(alpha_2*(1 + 1/(np.sqrt(2*N_-2))),3)\n",
    "\n",
    "data_frame = {r\"$N$\":N_2,r\"$\\alpha$\":np.ones_like(N_2)*0.123456789,r\"$\\alpha_{-}$\":a_minus,r\"$\\alpha_{+}$\":a_plus}\n",
    "\n",
    "data_F = pd.DataFrame(data_frame)\n",
    "data_F"
   ]
  },
  {
   "cell_type": "markdown",
   "id": "92d6597f",
   "metadata": {},
   "source": [
    "Para este caso, el efecto se vio cuando $N \\sim 11\\ 000 \\ 000$. "
   ]
  },
  {
   "cell_type": "markdown",
   "id": "c023962c",
   "metadata": {},
   "source": [
    "**4.** _Reporting results_\n",
    "\n",
    "Analysis of a Rydberg spectrum yields a quantum defect, $\\delta$, for each line. How would you report the results if you obtain (i) $\\bar{\\delta} = 3.273 \\,46$, with $\\alpha_{\\delta} = 0.019 \\,13$ from five measurements; (ii) $\\bar{\\delta} = 3.265 \\,13$, with $\\alpha_{\\delta} = 0.002 \\,506$ from 50 measurements; or (iii) $\\bar{\\delta} = 3.266 \\,81$, with $\\alpha_{\\delta} = 0.000 \\,270$ from 100 measurements?\n"
   ]
  },
  {
   "cell_type": "markdown",
   "id": "1243a86d",
   "metadata": {},
   "source": [
    "## Solución:"
   ]
  },
  {
   "cell_type": "markdown",
   "id": "4a367eaf",
   "metadata": {},
   "source": [
    "Para decidir cuántas cifras significativas se necesitan, se deben calcular los errores en los errores igual que en el ejercicio anterior.\n",
    "\n",
    "**(i)** Para $\\bar{\\delta} = 3.27346$ y $\\alpha_{\\delta} = 0.01913$ con $N=5$.\n",
    "\n",
    "Dado que la muestra no es representativa, se debe utilizar únicamente la primera cifra significativa de la incertidumbre, así:\n",
    "$$\\delta = 3.27 \\pm 0.02$$"
   ]
  },
  {
   "cell_type": "markdown",
   "id": "fffc02f7",
   "metadata": {},
   "source": [
    "**(ii)** Para $\\bar{\\delta} = 3.26513$ y $\\alpha_{\\delta} = 0.002506$ y $N=50$."
   ]
  },
  {
   "cell_type": "markdown",
   "id": "cdba2fd0",
   "metadata": {},
   "source": [
    "Para ver si se necesita la segunda cifra significativa, se calculan los errores en los errores así:"
   ]
  },
  {
   "cell_type": "code",
   "execution_count": 11,
   "id": "a96e81ca",
   "metadata": {},
   "outputs": [
    {
     "data": {
      "text/plain": [
       "(0.002252855772335216, 0.0027591442276647836)"
      ]
     },
     "execution_count": 11,
     "metadata": {},
     "output_type": "execute_result"
    }
   ],
   "source": [
    "#Errores en el error\n",
    "alpha2 = 0.002506\n",
    "N2=50\n",
    "alpha_plus2 = 0.002506*(1 + 1/np.sqrt(2*N2 -2))\n",
    "alpha_minus2 = 0.002506*(1 - 1/np.sqrt(2*N2 -2))\n",
    "alpha_minus2,alpha_plus2"
   ]
  },
  {
   "cell_type": "markdown",
   "id": "1600e3a5",
   "metadata": {},
   "source": [
    "Dado que las segundas cifras significativas con diferentes, entonces se tiene se debe reportar como $$\\delta = 3.265 \\pm 0.002$$."
   ]
  },
  {
   "cell_type": "markdown",
   "id": "0e2c90dd",
   "metadata": {},
   "source": [
    "**(iii)** Para $\\bar{\\delta} = 3.26681$ y $\\alpha_{\\delta} = 0.00027$ con $N= 100$."
   ]
  },
  {
   "cell_type": "code",
   "execution_count": 12,
   "id": "71929ea5",
   "metadata": {},
   "outputs": [
    {
     "data": {
      "text/plain": [
       "(0.00024272588129709032, 0.0002972741187029097)"
      ]
     },
     "execution_count": 12,
     "metadata": {},
     "output_type": "execute_result"
    }
   ],
   "source": [
    "#Errores en el error\n",
    "alpha3 = 0.000270\n",
    "N3=100\n",
    "alpha_plus3 = alpha3*(1 + 1/np.sqrt(2*N2 -2))\n",
    "alpha_minus3 = alpha3*(1 - 1/np.sqrt(2*N2 -2))\n",
    "alpha_minus3,alpha_plus3"
   ]
  },
  {
   "cell_type": "markdown",
   "id": "65688537",
   "metadata": {},
   "source": [
    "Dado que las segundas cifras significativas en el error en el error son las mismas, entonces se debe reportar como $$\\delta = 3.2668 \\pm 0.0003$$"
   ]
  },
  {
   "cell_type": "markdown",
   "id": "5438ea6d",
   "metadata": {},
   "source": [
    "**5.** _Scientific notation_ \n",
    "\n",
    "Rewrite the then numbers from Exercise (2.7) in scientific notation."
   ]
  },
  {
   "cell_type": "markdown",
   "id": "78797c55",
   "metadata": {},
   "source": [
    "1. $602.20 = 6.022 \\times 10^2$\n",
    "1. $0.001\\ 380\\ 6 = 1.3806\\times10^{-3}$\n",
    "1. $0.022\\ 413\\ 83 = 2.241383 \\times 10^{-2}$\n",
    "1. $1.602\\ 19 = 1.602\\ 19 \\times 10^0$\n",
    "1. $91.095 = 9.1095 \\times 10^{1}$\n",
    "1. $0.1660 = 1.660\\times10^{-1}$\n",
    "1. $299\\ 790\\ 000 = 2.9979\\times10^{8}$\n",
    "1. $66.2617 = 6.62617\\times10^{1}$\n",
    "1. $0.000\\ 006\\ 672 = 6.672 \\times 10^{-6}$ \n",
    "1. $3.141\\ 593 = 3.141593\\times10^0$"
   ]
  }
 ],
 "metadata": {
  "kernelspec": {
   "display_name": "Python 3 (ipykernel)",
   "language": "python",
   "name": "python3"
  },
  "language_info": {
   "codemirror_mode": {
    "name": "ipython",
    "version": 3
   },
   "file_extension": ".py",
   "mimetype": "text/x-python",
   "name": "python",
   "nbconvert_exporter": "python",
   "pygments_lexer": "ipython3",
   "version": "3.9.13"
  }
 },
 "nbformat": 4,
 "nbformat_minor": 5
}
