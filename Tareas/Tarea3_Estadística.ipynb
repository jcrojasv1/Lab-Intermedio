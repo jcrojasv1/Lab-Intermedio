{
 "cells": [
  {
   "cell_type": "markdown",
   "id": "22f8b9ce",
   "metadata": {},
   "source": [
    "# Tarea 3. Estadística\n",
    "Katherin A. Murcia S. y Juan Carlos Rojas V."
   ]
  },
  {
   "cell_type": "code",
   "execution_count": 2,
   "id": "e6f26c0a",
   "metadata": {},
   "outputs": [],
   "source": [
    "import numpy as np\n",
    "import matplotlib.pyplot as plt\n",
    "import sympy as sym"
   ]
  },
  {
   "cell_type": "markdown",
   "id": "e7143b7b",
   "metadata": {},
   "source": [
    "_Propagting the error through a multi-variable function_ "
   ]
  },
  {
   "cell_type": "markdown",
   "id": "78f87504",
   "metadata": {},
   "source": [
    "Three variables are measured to be $A = 12.3 \\pm 0.4$, $B=5.6 \\pm 0.8$ and $C = 89.0 \\pm 0.2$. Calculate the mean and ucertatinties of $Z$ when it is related to $A$, $B$ and $C$ via the relations:"
   ]
  },
  {
   "cell_type": "code",
   "execution_count": 3,
   "id": "546a8455",
   "metadata": {},
   "outputs": [],
   "source": [
    "# Dado que soy un perezoso, dejaré que SymPy haga las derivadas.\n",
    "a,b,c,un_a,un_b,un_c = sym.symbols(\"A B C sigma_A sigma_B sigma_C\")\n",
    "\n",
    "A = 12.3 # Medida promedio de A\n",
    "un_A = 0.4 # Incertidumbre de A\n",
    "B = 5.6 # Medida promedio de B\n",
    "un_B = 0.8 # Incertidumbre de B\n",
    "C = 89.0 # Medida promedio de C\n",
    "un_C = 0.2 # Incertidumbre de C"
   ]
  },
  {
   "cell_type": "markdown",
   "id": "251efdc8",
   "metadata": {},
   "source": [
    "**(i)** $Z = A + B$"
   ]
  },
  {
   "cell_type": "markdown",
   "id": "9df8454e",
   "metadata": {},
   "source": [
    "Calculando la incertidumbre de $Z$, se tiene que \n",
    "$$\\sigma_Z = \\sqrt{\\left(\\frac{\\partial Z}{\\partial A}\\right)^2\\sigma_A^2 + \\left( \\frac{\\partial Z}{\\partial B}\\right)^2\\sigma_B^2}$$"
   ]
  },
  {
   "cell_type": "markdown",
   "id": "e87bc128",
   "metadata": {},
   "source": [
    "Para la derivada parcial de $Z$ con respecto de $A$ está dada por $\\frac{\\partial Z}{\\partial A} = 1$. Análogamente para $B$, se tiene que $\\frac{\\partial Z}{\\partial B} = 1$ por tanto:\n",
    "$$\\sigma_Z = \\sqrt{\\sigma^2_A + \\sigma_B^2}.$$"
   ]
  },
  {
   "cell_type": "markdown",
   "id": "9ad7aad3",
   "metadata": {},
   "source": [
    "Se obtiene entonces que para $Z = A +B$ el calculo de $Z$ es:"
   ]
  },
  {
   "cell_type": "code",
   "execution_count": 4,
   "id": "60c62369",
   "metadata": {},
   "outputs": [
    {
     "data": {
      "text/plain": [
       "(17.9, np.float64(0.894427190999916))"
      ]
     },
     "execution_count": 4,
     "metadata": {},
     "output_type": "execute_result"
    }
   ],
   "source": [
    "un_Z = np.sqrt(un_A**2 + un_B**2) # Incertidumbre de Z\n",
    "Z = A + B # Medida promedio de Z\n",
    "Z,un_Z"
   ]
  },
  {
   "cell_type": "markdown",
   "id": "6be18e02",
   "metadata": {},
   "source": [
    "Se tiene entonces que $\\bar{Z} = 17.9$ y $\\sigma_Z = 0.9$."
   ]
  },
  {
   "cell_type": "markdown",
   "id": "24adf152",
   "metadata": {},
   "source": [
    "**(ii)** $Z = A - B$"
   ]
  },
  {
   "cell_type": "markdown",
   "id": "8668bfca",
   "metadata": {},
   "source": [
    "Similarmente que para el punto anterior, se tomando las derivadas parciales con respecto a cada variable. Sin embargo, la derivada parcial de $Z$ con respecto de $B$ va a ser $-1$. Por lo que se tiene que $\\sigma_Z$ está dado por:\n",
    "$$\\sigma_Z = \\sqrt{\\sigma_A^2 + (-1)^2\\sigma_B^2} = \\sqrt{\\sigma_A^2 + \\sigma_B^2}$$"
   ]
  },
  {
   "cell_type": "markdown",
   "id": "98d01252",
   "metadata": {},
   "source": [
    "Por tanto, la incertidumbre va a ser la misma que para el punto anterior. Ahora, para el promedio, se tiene que:"
   ]
  },
  {
   "cell_type": "code",
   "execution_count": 5,
   "id": "d40698dc",
   "metadata": {},
   "outputs": [
    {
     "data": {
      "text/plain": [
       "(6.700000000000001, np.float64(0.894427190999916))"
      ]
     },
     "execution_count": 5,
     "metadata": {},
     "output_type": "execute_result"
    }
   ],
   "source": [
    "Z = A - B\n",
    "un_Z = np.sqrt(un_A**2 + un_B**2)\n",
    "Z,un_Z"
   ]
  },
  {
   "cell_type": "markdown",
   "id": "977a10fe",
   "metadata": {},
   "source": [
    "Se tiene entonces que $\\bar{Z} = 6.7$ y $\\sigma_Z = 0.9$."
   ]
  },
  {
   "cell_type": "markdown",
   "id": "d0e88798",
   "metadata": {},
   "source": [
    "**(iii)** $Z = \\frac{A - B}{A+B}$"
   ]
  },
  {
   "cell_type": "markdown",
   "id": "9d05b465",
   "metadata": {},
   "source": [
    "Definiendo la expresión en SymPy:"
   ]
  },
  {
   "cell_type": "code",
   "execution_count": 6,
   "id": "e2c28943",
   "metadata": {},
   "outputs": [
    {
     "data": {
      "text/latex": [
       "$\\displaystyle \\frac{A - B}{A + B}$"
      ],
      "text/plain": [
       "(A - B)/(A + B)"
      ]
     },
     "execution_count": 6,
     "metadata": {},
     "output_type": "execute_result"
    }
   ],
   "source": [
    "z = (a-b)/(a+b)\n",
    "z"
   ]
  },
  {
   "cell_type": "markdown",
   "id": "97506137",
   "metadata": {},
   "source": [
    "Tomando la derivada parcial con respecto a $A$:"
   ]
  },
  {
   "cell_type": "code",
   "execution_count": 7,
   "id": "bff59249",
   "metadata": {},
   "outputs": [
    {
     "data": {
      "text/latex": [
       "$\\displaystyle - \\frac{A - B}{\\left(A + B\\right)^{2}} + \\frac{1}{A + B}$"
      ],
      "text/plain": [
       "-(A - B)/(A + B)**2 + 1/(A + B)"
      ]
     },
     "execution_count": 7,
     "metadata": {},
     "output_type": "execute_result"
    }
   ],
   "source": [
    "dzda = sym.diff(z,a)\n",
    "dzda"
   ]
  },
  {
   "cell_type": "markdown",
   "id": "2ffe5e91",
   "metadata": {},
   "source": [
    "Tomando la derivada parcial con respecto a $B$:"
   ]
  },
  {
   "cell_type": "code",
   "execution_count": 8,
   "id": "5334ade6",
   "metadata": {},
   "outputs": [
    {
     "data": {
      "text/latex": [
       "$\\displaystyle - \\frac{A - B}{\\left(A + B\\right)^{2}} - \\frac{1}{A + B}$"
      ],
      "text/plain": [
       "-(A - B)/(A + B)**2 - 1/(A + B)"
      ]
     },
     "execution_count": 8,
     "metadata": {},
     "output_type": "execute_result"
    }
   ],
   "source": [
    "dzdb = sym.diff(z,b)\n",
    "dzdb"
   ]
  },
  {
   "cell_type": "markdown",
   "id": "927cc326",
   "metadata": {},
   "source": [
    "La incertidumbre $\\sigma_Z$ es, entonces:"
   ]
  },
  {
   "cell_type": "code",
   "execution_count": 9,
   "id": "03f5c4f0",
   "metadata": {},
   "outputs": [
    {
     "data": {
      "text/latex": [
       "$\\displaystyle \\sqrt{\\sigma_{A}^{2} \\left(- \\frac{A - B}{\\left(A + B\\right)^{2}} + \\frac{1}{A + B}\\right)^{2} + \\sigma_{B}^{2} \\left(- \\frac{A - B}{\\left(A + B\\right)^{2}} - \\frac{1}{A + B}\\right)^{2}}$"
      ],
      "text/plain": [
       "sqrt(sigma_A**2*(-(A - B)/(A + B)**2 + 1/(A + B))**2 + sigma_B**2*(-(A - B)/(A + B)**2 - 1/(A + B))**2)"
      ]
     },
     "execution_count": 9,
     "metadata": {},
     "output_type": "execute_result"
    }
   ],
   "source": [
    "un_z = sym.sqrt(dzda**2 * un_a**2 + dzdb**2 * un_b**2)\n",
    "un_z"
   ]
  },
  {
   "cell_type": "markdown",
   "id": "555b63d4",
   "metadata": {},
   "source": [
    "Al calcularla se tiene, entonces que:"
   ]
  },
  {
   "cell_type": "code",
   "execution_count": 10,
   "id": "b0017e9e",
   "metadata": {},
   "outputs": [
    {
     "data": {
      "text/plain": [
       "np.float64(0.06299266062854407)"
      ]
     },
     "execution_count": 10,
     "metadata": {},
     "output_type": "execute_result"
    }
   ],
   "source": [
    "un_Z_f = sym.lambdify([a,b,un_a,un_b],un_z)\n",
    "un_Z = un_Z_f(A,B,un_A,un_B)\n",
    "un_Z"
   ]
  },
  {
   "cell_type": "markdown",
   "id": "3edae79c",
   "metadata": {},
   "source": [
    "Por otro lado, para $\\bar{Z}$ se tiene que:"
   ]
  },
  {
   "cell_type": "code",
   "execution_count": 11,
   "id": "d259ed13",
   "metadata": {},
   "outputs": [
    {
     "data": {
      "text/plain": [
       "0.37430167597765374"
      ]
     },
     "execution_count": 11,
     "metadata": {},
     "output_type": "execute_result"
    }
   ],
   "source": [
    "Z = (A-B)/(A+B)\n",
    "Z"
   ]
  },
  {
   "cell_type": "markdown",
   "id": "38d6c185",
   "metadata": {},
   "source": [
    "Por tanto la medida es $\\bar{Z} = 0.37$ y $\\sigma_Z = 0.06$."
   ]
  },
  {
   "cell_type": "markdown",
   "id": "5660e3df",
   "metadata": {},
   "source": [
    "**(iv)** $Z = \\frac{AB}{C}$"
   ]
  },
  {
   "cell_type": "markdown",
   "id": "ff3924c4",
   "metadata": {},
   "source": [
    "Se define la expresión simbólica en SymPy:"
   ]
  },
  {
   "cell_type": "code",
   "execution_count": 89,
   "id": "d0833ed0",
   "metadata": {},
   "outputs": [
    {
     "data": {
      "text/latex": [
       "$\\displaystyle \\frac{A B}{C}$"
      ],
      "text/plain": [
       "A*B/C"
      ]
     },
     "execution_count": 89,
     "metadata": {},
     "output_type": "execute_result"
    }
   ],
   "source": [
    "z = a*b/c\n",
    "z"
   ]
  },
  {
   "cell_type": "markdown",
   "id": "e345492d",
   "metadata": {},
   "source": [
    "Tomando las derivadas parciales:"
   ]
  },
  {
   "cell_type": "code",
   "execution_count": 13,
   "id": "742982e3",
   "metadata": {},
   "outputs": [
    {
     "data": {
      "text/latex": [
       "$\\displaystyle \\frac{B}{C}$"
      ],
      "text/plain": [
       "B/C"
      ]
     },
     "execution_count": 13,
     "metadata": {},
     "output_type": "execute_result"
    }
   ],
   "source": [
    "dzda = sym.diff(z,a)\n",
    "dzda"
   ]
  },
  {
   "cell_type": "code",
   "execution_count": 14,
   "id": "627e31eb",
   "metadata": {},
   "outputs": [
    {
     "data": {
      "text/latex": [
       "$\\displaystyle \\frac{A}{C}$"
      ],
      "text/plain": [
       "A/C"
      ]
     },
     "execution_count": 14,
     "metadata": {},
     "output_type": "execute_result"
    }
   ],
   "source": [
    "dzdb = sym.diff(z,b)\n",
    "dzdb"
   ]
  },
  {
   "cell_type": "code",
   "execution_count": 15,
   "id": "777048a6",
   "metadata": {},
   "outputs": [
    {
     "data": {
      "text/latex": [
       "$\\displaystyle - \\frac{A B}{C^{2}}$"
      ],
      "text/plain": [
       "-A*B/C**2"
      ]
     },
     "execution_count": 15,
     "metadata": {},
     "output_type": "execute_result"
    }
   ],
   "source": [
    "dzdc = sym.diff(z,c)\n",
    "dzdc"
   ]
  },
  {
   "cell_type": "code",
   "execution_count": 16,
   "id": "96532343",
   "metadata": {},
   "outputs": [
    {
     "data": {
      "text/latex": [
       "$\\displaystyle \\sqrt{\\frac{A^{2} B^{2} \\sigma_{C}^{2}}{C^{4}} + \\frac{A^{2} \\sigma_{B}^{2}}{C^{2}} + \\frac{B^{2} \\sigma_{A}^{2}}{C^{2}}}$"
      ],
      "text/plain": [
       "sqrt(A**2*B**2*sigma_C**2/C**4 + A**2*sigma_B**2/C**2 + B**2*sigma_A**2/C**2)"
      ]
     },
     "execution_count": 16,
     "metadata": {},
     "output_type": "execute_result"
    }
   ],
   "source": [
    "un_z = sym.sqrt(dzda**2 * un_a**2 + dzdb**2 * un_b**2 + dzdc**2 * un_c**2)\n",
    "un_z"
   ]
  },
  {
   "cell_type": "code",
   "execution_count": 17,
   "id": "bb0873d4",
   "metadata": {},
   "outputs": [
    {
     "data": {
      "text/plain": [
       "np.float64(0.11340366493873848)"
      ]
     },
     "execution_count": 17,
     "metadata": {},
     "output_type": "execute_result"
    }
   ],
   "source": [
    "un_Z_f = sym.lambdify([a,b,c,un_a,un_b,un_c],un_z)\n",
    "un_Z = un_Z_f(A,B,C,un_A,un_B,un_C)\n",
    "un_Z"
   ]
  },
  {
   "cell_type": "code",
   "execution_count": 18,
   "id": "8910c674",
   "metadata": {},
   "outputs": [
    {
     "data": {
      "text/plain": [
       "0.7739325842696628"
      ]
     },
     "execution_count": 18,
     "metadata": {},
     "output_type": "execute_result"
    }
   ],
   "source": [
    "Z = A*B/C\n",
    "Z"
   ]
  },
  {
   "cell_type": "markdown",
   "id": "d52cf4ff",
   "metadata": {},
   "source": [
    "Se tiene entonces, que $\\bar{Z} = 0.7$ y $\\sigma_Z = 0.1$."
   ]
  },
  {
   "cell_type": "markdown",
   "id": "26aeb950",
   "metadata": {},
   "source": [
    "**(v)** $Z = \\arcsin\\left( \\frac{B}{A}\\right)$"
   ]
  },
  {
   "cell_type": "code",
   "execution_count": 19,
   "id": "986801c4",
   "metadata": {},
   "outputs": [
    {
     "data": {
      "text/latex": [
       "$\\displaystyle \\operatorname{asin}{\\left(\\frac{B}{A} \\right)}$"
      ],
      "text/plain": [
       "asin(B/A)"
      ]
     },
     "execution_count": 19,
     "metadata": {},
     "output_type": "execute_result"
    }
   ],
   "source": [
    "z = sym.asin(b/a)\n",
    "z"
   ]
  },
  {
   "cell_type": "markdown",
   "id": "25fbbce1",
   "metadata": {},
   "source": [
    "Tomando la derivada parcial con respecto a $A$:"
   ]
  },
  {
   "cell_type": "code",
   "execution_count": 20,
   "id": "52d771dd",
   "metadata": {},
   "outputs": [
    {
     "data": {
      "text/latex": [
       "$\\displaystyle - \\frac{B}{A^{2} \\sqrt{1 - \\frac{B^{2}}{A^{2}}}}$"
      ],
      "text/plain": [
       "-B/(A**2*sqrt(1 - B**2/A**2))"
      ]
     },
     "execution_count": 20,
     "metadata": {},
     "output_type": "execute_result"
    }
   ],
   "source": [
    "dzda = sym.diff(z,a)\n",
    "dzda"
   ]
  },
  {
   "cell_type": "markdown",
   "id": "4ae0e904",
   "metadata": {},
   "source": [
    "Tomando la derivada parcial con respecto a $B$:"
   ]
  },
  {
   "cell_type": "code",
   "execution_count": 21,
   "id": "ad0b5bda",
   "metadata": {},
   "outputs": [
    {
     "data": {
      "text/latex": [
       "$\\displaystyle \\frac{1}{A \\sqrt{1 - \\frac{B^{2}}{A^{2}}}}$"
      ],
      "text/plain": [
       "1/(A*sqrt(1 - B**2/A**2))"
      ]
     },
     "execution_count": 21,
     "metadata": {},
     "output_type": "execute_result"
    }
   ],
   "source": [
    "dzdb = sym.diff(z,b)\n",
    "dzdb"
   ]
  },
  {
   "cell_type": "markdown",
   "id": "4232c147",
   "metadata": {},
   "source": [
    "La incertidumbre $\\sigma_Z$ es, entonces:"
   ]
  },
  {
   "cell_type": "code",
   "execution_count": 22,
   "id": "2b5a201a",
   "metadata": {},
   "outputs": [
    {
     "data": {
      "text/latex": [
       "$\\displaystyle \\sqrt{\\frac{\\sigma_{B}^{2}}{A^{2} \\cdot \\left(1 - \\frac{B^{2}}{A^{2}}\\right)} + \\frac{B^{2} \\sigma_{A}^{2}}{A^{4} \\cdot \\left(1 - \\frac{B^{2}}{A^{2}}\\right)}}$"
      ],
      "text/plain": [
       "sqrt(sigma_B**2/(A**2*(1 - B**2/A**2)) + B**2*sigma_A**2/(A**4*(1 - B**2/A**2)))"
      ]
     },
     "execution_count": 22,
     "metadata": {},
     "output_type": "execute_result"
    }
   ],
   "source": [
    "un_z = sym.sqrt(dzda**2 * un_a**2 + dzdb**2 * un_b**2)\n",
    "un_z"
   ]
  },
  {
   "cell_type": "markdown",
   "id": "06815215",
   "metadata": {},
   "source": [
    "Al calcularla se tiene, entonces que:"
   ]
  },
  {
   "cell_type": "code",
   "execution_count": 23,
   "id": "391a959c",
   "metadata": {},
   "outputs": [
    {
     "data": {
      "text/plain": [
       "np.float64(0.0749198656837616)"
      ]
     },
     "execution_count": 23,
     "metadata": {},
     "output_type": "execute_result"
    }
   ],
   "source": [
    "un_Z_f = sym.lambdify([a,b,un_a,un_b],un_z)\n",
    "un_Z = un_Z_f(A,B,un_A,un_B)\n",
    "un_Z"
   ]
  },
  {
   "cell_type": "markdown",
   "id": "0396f556",
   "metadata": {},
   "source": [
    "Por otro lado, para $\\bar{Z}$ se tiene que:"
   ]
  },
  {
   "cell_type": "code",
   "execution_count": 24,
   "id": "29d1a439",
   "metadata": {},
   "outputs": [
    {
     "data": {
      "text/plain": [
       "np.float64(0.47269178607772744)"
      ]
     },
     "execution_count": 24,
     "metadata": {},
     "output_type": "execute_result"
    }
   ],
   "source": [
    "Z = np.arcsin(B/A)\n",
    "Z"
   ]
  },
  {
   "cell_type": "markdown",
   "id": "96303f65",
   "metadata": {},
   "source": [
    "Por tanto la medida es $\\bar{Z} = 0.47$ y $\\sigma_Z = 0.07$."
   ]
  },
  {
   "cell_type": "markdown",
   "id": "01afccbd",
   "metadata": {},
   "source": [
    "**(vi)** $Z = AB^2C^3$"
   ]
  },
  {
   "cell_type": "markdown",
   "id": "49667525",
   "metadata": {},
   "source": [
    "Se define la expresión simbólica en SymPy:"
   ]
  },
  {
   "cell_type": "code",
   "execution_count": 25,
   "id": "2e6f3a0e",
   "metadata": {},
   "outputs": [
    {
     "data": {
      "text/latex": [
       "$\\displaystyle A B^{2} C^{3}$"
      ],
      "text/plain": [
       "A*B**2*C**3"
      ]
     },
     "execution_count": 25,
     "metadata": {},
     "output_type": "execute_result"
    }
   ],
   "source": [
    "z = a*b**2 * c**3\n",
    "z"
   ]
  },
  {
   "cell_type": "markdown",
   "id": "ec5e9735",
   "metadata": {},
   "source": [
    "Tomando las derivadas parciales:"
   ]
  },
  {
   "cell_type": "code",
   "execution_count": 26,
   "id": "3a0843c5",
   "metadata": {},
   "outputs": [
    {
     "data": {
      "text/latex": [
       "$\\displaystyle B^{2} C^{3}$"
      ],
      "text/plain": [
       "B**2*C**3"
      ]
     },
     "execution_count": 26,
     "metadata": {},
     "output_type": "execute_result"
    }
   ],
   "source": [
    "dzda = sym.diff(z,a)\n",
    "dzda"
   ]
  },
  {
   "cell_type": "code",
   "execution_count": 27,
   "id": "72cfa6d0",
   "metadata": {},
   "outputs": [
    {
     "data": {
      "text/latex": [
       "$\\displaystyle 2 A B C^{3}$"
      ],
      "text/plain": [
       "2*A*B*C**3"
      ]
     },
     "execution_count": 27,
     "metadata": {},
     "output_type": "execute_result"
    }
   ],
   "source": [
    "dzdb = sym.diff(z,b)\n",
    "dzdb"
   ]
  },
  {
   "cell_type": "code",
   "execution_count": 28,
   "id": "75bf6a2a",
   "metadata": {},
   "outputs": [
    {
     "data": {
      "text/latex": [
       "$\\displaystyle 3 A B^{2} C^{2}$"
      ],
      "text/plain": [
       "3*A*B**2*C**2"
      ]
     },
     "execution_count": 28,
     "metadata": {},
     "output_type": "execute_result"
    }
   ],
   "source": [
    "dzdc = sym.diff(z,c)\n",
    "dzdc"
   ]
  },
  {
   "cell_type": "code",
   "execution_count": 29,
   "id": "bf9ea59c",
   "metadata": {},
   "outputs": [
    {
     "data": {
      "text/latex": [
       "$\\displaystyle \\sqrt{9 A^{2} B^{4} C^{4} \\sigma_{C}^{2} + 4 A^{2} B^{2} C^{6} \\sigma_{B}^{2} + B^{4} C^{6} \\sigma_{A}^{2}}$"
      ],
      "text/plain": [
       "sqrt(9*A**2*B**4*C**4*sigma_C**2 + 4*A**2*B**2*C**6*sigma_B**2 + B**4*C**6*sigma_A**2)"
      ]
     },
     "execution_count": 29,
     "metadata": {},
     "output_type": "execute_result"
    }
   ],
   "source": [
    "un_z = sym.sqrt(dzda**2 * un_a**2 + dzdb**2 * un_b**2 + dzdc**2 * un_c**2)\n",
    "un_z"
   ]
  },
  {
   "cell_type": "code",
   "execution_count": 30,
   "id": "c61d02de",
   "metadata": {},
   "outputs": [
    {
     "data": {
      "text/plain": [
       "np.float64(78216357.72884737)"
      ]
     },
     "execution_count": 30,
     "metadata": {},
     "output_type": "execute_result"
    }
   ],
   "source": [
    "un_Z_f = sym.lambdify([a,b,c,un_a,un_b,un_c],un_z)\n",
    "un_Z = un_Z_f(A,B,C,un_A,un_B,un_C)\n",
    "un_Z"
   ]
  },
  {
   "cell_type": "code",
   "execution_count": 33,
   "id": "70a20fe9",
   "metadata": {},
   "outputs": [
    {
     "data": {
      "text/plain": [
       "271926282.432"
      ]
     },
     "execution_count": 33,
     "metadata": {},
     "output_type": "execute_result"
    }
   ],
   "source": [
    "Z = A*B**2*C**3\n",
    "Z"
   ]
  },
  {
   "cell_type": "markdown",
   "id": "5004293d",
   "metadata": {},
   "source": [
    "Se tiene entonces, que $\\bar{Z} = 2.7\\times 10^{9}$ y $\\sigma_Z = 0.8 \\times 10^{9}$."
   ]
  },
  {
   "cell_type": "markdown",
   "id": "cd62d997",
   "metadata": {},
   "source": [
    "**(vii)** $Z = \\ln(ABC)$"
   ]
  },
  {
   "cell_type": "markdown",
   "id": "41c4ee75",
   "metadata": {},
   "source": [
    "Se define la expresión simbólica en SymPy:"
   ]
  },
  {
   "cell_type": "code",
   "execution_count": 34,
   "id": "c1ce551e",
   "metadata": {},
   "outputs": [
    {
     "data": {
      "text/latex": [
       "$\\displaystyle \\log{\\left(A B C \\right)}$"
      ],
      "text/plain": [
       "log(A*B*C)"
      ]
     },
     "execution_count": 34,
     "metadata": {},
     "output_type": "execute_result"
    }
   ],
   "source": [
    "z = sym.ln(a*b*c)\n",
    "z"
   ]
  },
  {
   "cell_type": "markdown",
   "id": "5669c72d",
   "metadata": {},
   "source": [
    "Tomando las derivadas parciales:"
   ]
  },
  {
   "cell_type": "code",
   "execution_count": 35,
   "id": "0c81d613",
   "metadata": {},
   "outputs": [
    {
     "data": {
      "text/latex": [
       "$\\displaystyle \\frac{1}{A}$"
      ],
      "text/plain": [
       "1/A"
      ]
     },
     "execution_count": 35,
     "metadata": {},
     "output_type": "execute_result"
    }
   ],
   "source": [
    "dzda = sym.diff(z,a)\n",
    "dzda"
   ]
  },
  {
   "cell_type": "code",
   "execution_count": 36,
   "id": "c0a4422a",
   "metadata": {},
   "outputs": [
    {
     "data": {
      "text/latex": [
       "$\\displaystyle \\frac{1}{B}$"
      ],
      "text/plain": [
       "1/B"
      ]
     },
     "execution_count": 36,
     "metadata": {},
     "output_type": "execute_result"
    }
   ],
   "source": [
    "dzdb = sym.diff(z,b)\n",
    "dzdb"
   ]
  },
  {
   "cell_type": "code",
   "execution_count": 37,
   "id": "98e1a7bd",
   "metadata": {},
   "outputs": [
    {
     "data": {
      "text/latex": [
       "$\\displaystyle \\frac{1}{C}$"
      ],
      "text/plain": [
       "1/C"
      ]
     },
     "execution_count": 37,
     "metadata": {},
     "output_type": "execute_result"
    }
   ],
   "source": [
    "dzdc = sym.diff(z,c)\n",
    "dzdc"
   ]
  },
  {
   "cell_type": "code",
   "execution_count": 38,
   "id": "9b0505d4",
   "metadata": {},
   "outputs": [
    {
     "data": {
      "text/latex": [
       "$\\displaystyle \\sqrt{\\frac{\\sigma_{C}^{2}}{C^{2}} + \\frac{\\sigma_{B}^{2}}{B^{2}} + \\frac{\\sigma_{A}^{2}}{A^{2}}}$"
      ],
      "text/plain": [
       "sqrt(sigma_C**2/C**2 + sigma_B**2/B**2 + sigma_A**2/A**2)"
      ]
     },
     "execution_count": 38,
     "metadata": {},
     "output_type": "execute_result"
    }
   ],
   "source": [
    "un_z = sym.sqrt(dzda**2 * un_a**2 + dzdb**2 * un_b**2 + dzdc**2 * un_c**2)\n",
    "un_z"
   ]
  },
  {
   "cell_type": "code",
   "execution_count": 39,
   "id": "2ef222c4",
   "metadata": {},
   "outputs": [
    {
     "data": {
      "text/plain": [
       "np.float64(0.14652912571933396)"
      ]
     },
     "execution_count": 39,
     "metadata": {},
     "output_type": "execute_result"
    }
   ],
   "source": [
    "un_Z_f = sym.lambdify([a,b,c,un_a,un_b,un_c],un_z)\n",
    "un_Z = un_Z_f(A,B,C,un_A,un_B,un_C)\n",
    "un_Z"
   ]
  },
  {
   "cell_type": "code",
   "execution_count": 40,
   "id": "60d23064",
   "metadata": {},
   "outputs": [
    {
     "data": {
      "text/plain": [
       "np.float64(8.721002229851615)"
      ]
     },
     "execution_count": 40,
     "metadata": {},
     "output_type": "execute_result"
    }
   ],
   "source": [
    "Z = np.log(A*B*C)\n",
    "Z"
   ]
  },
  {
   "cell_type": "markdown",
   "id": "9a8fc0fc",
   "metadata": {},
   "source": [
    "Se tiene entonces, que $\\bar{Z} = 8.7$ y $\\sigma_Z = 0.1$."
   ]
  },
  {
   "cell_type": "markdown",
   "id": "789a313e",
   "metadata": {},
   "source": [
    "**(viii)** $Z = \\exp(ABC)$"
   ]
  },
  {
   "cell_type": "markdown",
   "id": "6219e754",
   "metadata": {},
   "source": [
    "Se define la expresión simbólica en SymPy:"
   ]
  },
  {
   "cell_type": "code",
   "execution_count": 48,
   "id": "c61a3835",
   "metadata": {},
   "outputs": [
    {
     "data": {
      "text/latex": [
       "$\\displaystyle e^{A B C}$"
      ],
      "text/plain": [
       "exp(A*B*C)"
      ]
     },
     "execution_count": 48,
     "metadata": {},
     "output_type": "execute_result"
    }
   ],
   "source": [
    "z = sym.exp(a*b*c)\n",
    "z"
   ]
  },
  {
   "cell_type": "markdown",
   "id": "597787c6",
   "metadata": {},
   "source": [
    "Tomando las derivadas parciales:"
   ]
  },
  {
   "cell_type": "code",
   "execution_count": 49,
   "id": "588b84ec",
   "metadata": {},
   "outputs": [
    {
     "data": {
      "text/latex": [
       "$\\displaystyle B C e^{A B C}$"
      ],
      "text/plain": [
       "B*C*exp(A*B*C)"
      ]
     },
     "execution_count": 49,
     "metadata": {},
     "output_type": "execute_result"
    }
   ],
   "source": [
    "dzda = sym.diff(z,a)\n",
    "dzda"
   ]
  },
  {
   "cell_type": "code",
   "execution_count": 50,
   "id": "25957c15",
   "metadata": {},
   "outputs": [
    {
     "data": {
      "text/latex": [
       "$\\displaystyle A C e^{A B C}$"
      ],
      "text/plain": [
       "A*C*exp(A*B*C)"
      ]
     },
     "execution_count": 50,
     "metadata": {},
     "output_type": "execute_result"
    }
   ],
   "source": [
    "dzdb = sym.diff(z,b)\n",
    "dzdb"
   ]
  },
  {
   "cell_type": "code",
   "execution_count": 51,
   "id": "2561d147",
   "metadata": {},
   "outputs": [
    {
     "data": {
      "text/latex": [
       "$\\displaystyle A B e^{A B C}$"
      ],
      "text/plain": [
       "A*B*exp(A*B*C)"
      ]
     },
     "execution_count": 51,
     "metadata": {},
     "output_type": "execute_result"
    }
   ],
   "source": [
    "dzdc = sym.diff(z,c)\n",
    "dzdc"
   ]
  },
  {
   "cell_type": "code",
   "execution_count": 54,
   "id": "ab241a51",
   "metadata": {},
   "outputs": [
    {
     "data": {
      "text/latex": [
       "$\\displaystyle \\sqrt{A^{2} B^{2} \\sigma_{C}^{2} e^{2 A B C} + A^{2} C^{2} \\sigma_{B}^{2} e^{2 A B C} + B^{2} C^{2} \\sigma_{A}^{2} e^{2 A B C}}$"
      ],
      "text/plain": [
       "sqrt(A**2*B**2*sigma_C**2*exp(2*A*B*C) + A**2*C**2*sigma_B**2*exp(2*A*B*C) + B**2*C**2*sigma_A**2*exp(2*A*B*C))"
      ]
     },
     "execution_count": 54,
     "metadata": {},
     "output_type": "execute_result"
    }
   ],
   "source": [
    "un_z = sym.sqrt(dzda**2 * un_a**2 + dzdb**2 * un_b**2 + dzdc**2 * un_c**2)\n",
    "un_z"
   ]
  },
  {
   "cell_type": "markdown",
   "id": "d6d576eb",
   "metadata": {},
   "source": [
    "Calculando en otro lado (dado que es algo re grande)."
   ]
  },
  {
   "cell_type": "markdown",
   "id": "51051875",
   "metadata": {},
   "source": [
    "Se tiene entonces, que $\\bar{Z} =0.002 × 10^{2665}$ y $\\sigma_Z = 2× 10^{2665}$."
   ]
  },
  {
   "cell_type": "markdown",
   "id": "f4d3c363",
   "metadata": {},
   "source": [
    "**(ix)** $Z = A + \\tan\\left( \\frac{B}{C}\\right)$"
   ]
  },
  {
   "cell_type": "markdown",
   "id": "0a6dcce1",
   "metadata": {},
   "source": [
    "Se define la expresión simbólica en SymPy:"
   ]
  },
  {
   "cell_type": "code",
   "execution_count": 112,
   "id": "979645eb",
   "metadata": {},
   "outputs": [
    {
     "data": {
      "text/latex": [
       "$\\displaystyle A + \\tan{\\left(\\frac{B}{C} \\right)}$"
      ],
      "text/plain": [
       "A + tan(B/C)"
      ]
     },
     "execution_count": 112,
     "metadata": {},
     "output_type": "execute_result"
    }
   ],
   "source": [
    "z = a + sym.tan(b/c)\n",
    "z"
   ]
  },
  {
   "cell_type": "markdown",
   "id": "f504bd12",
   "metadata": {},
   "source": [
    "Tomando las derivadas parciales:"
   ]
  },
  {
   "cell_type": "code",
   "execution_count": 113,
   "id": "8e777d7b",
   "metadata": {},
   "outputs": [
    {
     "data": {
      "text/latex": [
       "$\\displaystyle 1$"
      ],
      "text/plain": [
       "1"
      ]
     },
     "execution_count": 113,
     "metadata": {},
     "output_type": "execute_result"
    }
   ],
   "source": [
    "dzda = sym.diff(z,a)\n",
    "dzda"
   ]
  },
  {
   "cell_type": "code",
   "execution_count": 114,
   "id": "017cdc34",
   "metadata": {},
   "outputs": [
    {
     "data": {
      "text/latex": [
       "$\\displaystyle \\frac{\\tan^{2}{\\left(\\frac{B}{C} \\right)} + 1}{C}$"
      ],
      "text/plain": [
       "(tan(B/C)**2 + 1)/C"
      ]
     },
     "execution_count": 114,
     "metadata": {},
     "output_type": "execute_result"
    }
   ],
   "source": [
    "dzdb = sym.diff(z,b)\n",
    "dzdb"
   ]
  },
  {
   "cell_type": "code",
   "execution_count": 115,
   "id": "5847d977",
   "metadata": {},
   "outputs": [
    {
     "data": {
      "text/latex": [
       "$\\displaystyle - \\frac{B \\left(\\tan^{2}{\\left(\\frac{B}{C} \\right)} + 1\\right)}{C^{2}}$"
      ],
      "text/plain": [
       "-B*(tan(B/C)**2 + 1)/C**2"
      ]
     },
     "execution_count": 115,
     "metadata": {},
     "output_type": "execute_result"
    }
   ],
   "source": [
    "dzdc = sym.diff(z,c)\n",
    "dzdc"
   ]
  },
  {
   "cell_type": "code",
   "execution_count": 116,
   "id": "31e4cc51",
   "metadata": {},
   "outputs": [
    {
     "data": {
      "text/latex": [
       "$\\displaystyle \\sqrt{\\frac{B^{2} \\sigma_{C}^{2} \\left(\\tan^{2}{\\left(\\frac{B}{C} \\right)} + 1\\right)^{2}}{C^{4}} + \\sigma_{A}^{2} + \\frac{\\sigma_{B}^{2} \\left(\\tan^{2}{\\left(\\frac{B}{C} \\right)} + 1\\right)^{2}}{C^{2}}}$"
      ],
      "text/plain": [
       "sqrt(B**2*sigma_C**2*(tan(B/C)**2 + 1)**2/C**4 + sigma_A**2 + sigma_B**2*(tan(B/C)**2 + 1)**2/C**2)"
      ]
     },
     "execution_count": 116,
     "metadata": {},
     "output_type": "execute_result"
    }
   ],
   "source": [
    "un_z = sym.sqrt(dzda**2 * un_a**2 + dzdb**2 * un_b**2 + dzdc**2 * un_c**2)\n",
    "un_z"
   ]
  },
  {
   "cell_type": "code",
   "execution_count": 117,
   "id": "b816023a",
   "metadata": {},
   "outputs": [
    {
     "data": {
      "text/plain": [
       "np.float64(0.40010181300479225)"
      ]
     },
     "execution_count": 117,
     "metadata": {},
     "output_type": "execute_result"
    }
   ],
   "source": [
    "un_Z_f = sym.lambdify([a,b,c,un_a,un_b,un_c],un_z)\n",
    "un_Z = un_Z_f(A,B,C,un_A,un_B,un_C)\n",
    "un_Z"
   ]
  },
  {
   "cell_type": "code",
   "execution_count": 118,
   "id": "4b967466",
   "metadata": {},
   "outputs": [
    {
     "data": {
      "text/plain": [
       "np.float64(12.363004517247631)"
      ]
     },
     "execution_count": 118,
     "metadata": {},
     "output_type": "execute_result"
    }
   ],
   "source": [
    "Z = A + np.tan(B/C)\n",
    "Z"
   ]
  },
  {
   "cell_type": "markdown",
   "id": "57cb77ff",
   "metadata": {},
   "source": [
    "Se tiene entonces, que $\\bar{Z} = 12.4$ y $\\sigma_Z = 0.4$."
   ]
  },
  {
   "cell_type": "markdown",
   "id": "34c2eab8",
   "metadata": {},
   "source": [
    "**(x)** $Z = 10^{ABC}$"
   ]
  },
  {
   "cell_type": "markdown",
   "id": "d37becf5",
   "metadata": {},
   "source": [
    "Se define la expresión simbólica en SymPy:"
   ]
  },
  {
   "cell_type": "code",
   "execution_count": 58,
   "id": "cc0e64f5",
   "metadata": {},
   "outputs": [
    {
     "data": {
      "text/latex": [
       "$\\displaystyle 10^{A B C}$"
      ],
      "text/plain": [
       "10**(A*B*C)"
      ]
     },
     "execution_count": 58,
     "metadata": {},
     "output_type": "execute_result"
    }
   ],
   "source": [
    "z = 10**(a*b*c)\n",
    "z"
   ]
  },
  {
   "cell_type": "markdown",
   "id": "1d5b641d",
   "metadata": {},
   "source": [
    "Tomando las derivadas parciales:"
   ]
  },
  {
   "cell_type": "code",
   "execution_count": 59,
   "id": "ec5370de",
   "metadata": {},
   "outputs": [
    {
     "data": {
      "text/latex": [
       "$\\displaystyle 10^{A B C} B C \\log{\\left(10 \\right)}$"
      ],
      "text/plain": [
       "10**(A*B*C)*B*C*log(10)"
      ]
     },
     "execution_count": 59,
     "metadata": {},
     "output_type": "execute_result"
    }
   ],
   "source": [
    "dzda = sym.diff(z,a)\n",
    "dzda"
   ]
  },
  {
   "cell_type": "code",
   "execution_count": 60,
   "id": "640bce2d",
   "metadata": {},
   "outputs": [
    {
     "data": {
      "text/latex": [
       "$\\displaystyle 10^{A B C} A C \\log{\\left(10 \\right)}$"
      ],
      "text/plain": [
       "10**(A*B*C)*A*C*log(10)"
      ]
     },
     "execution_count": 60,
     "metadata": {},
     "output_type": "execute_result"
    }
   ],
   "source": [
    "dzdb = sym.diff(z,b)\n",
    "dzdb"
   ]
  },
  {
   "cell_type": "code",
   "execution_count": 61,
   "id": "a5462a4a",
   "metadata": {},
   "outputs": [
    {
     "data": {
      "text/latex": [
       "$\\displaystyle 10^{A B C} A B \\log{\\left(10 \\right)}$"
      ],
      "text/plain": [
       "10**(A*B*C)*A*B*log(10)"
      ]
     },
     "execution_count": 61,
     "metadata": {},
     "output_type": "execute_result"
    }
   ],
   "source": [
    "dzdc = sym.diff(z,c)\n",
    "dzdc"
   ]
  },
  {
   "cell_type": "code",
   "execution_count": 62,
   "id": "5bc27dde",
   "metadata": {},
   "outputs": [
    {
     "data": {
      "text/latex": [
       "$\\displaystyle \\sqrt{10^{2 A B C} A^{2} B^{2} \\sigma_{C}^{2} \\log{\\left(10 \\right)}^{2} + 10^{2 A B C} A^{2} C^{2} \\sigma_{B}^{2} \\log{\\left(10 \\right)}^{2} + 10^{2 A B C} B^{2} C^{2} \\sigma_{A}^{2} \\log{\\left(10 \\right)}^{2}}$"
      ],
      "text/plain": [
       "sqrt(10**(2*A*B*C)*A**2*B**2*sigma_C**2*log(10)**2 + 10**(2*A*B*C)*A**2*C**2*sigma_B**2*log(10)**2 + 10**(2*A*B*C)*B**2*C**2*sigma_A**2*log(10)**2)"
      ]
     },
     "execution_count": 62,
     "metadata": {},
     "output_type": "execute_result"
    }
   ],
   "source": [
    "un_z = sym.sqrt(dzda**2 * un_a**2 + dzdb**2 * un_b**2 + dzdc**2 * un_c**2)\n",
    "un_z"
   ]
  },
  {
   "cell_type": "markdown",
   "id": "bb586d1b",
   "metadata": {},
   "source": [
    "Calculando en otro lado (dado que es algo re grande)."
   ]
  },
  {
   "cell_type": "markdown",
   "id": "33b29e23",
   "metadata": {},
   "source": [
    "Se tiene entonces, que $\\bar{Z} =0.002 × 10^{6133}$ y $\\sigma_Z = 4\\times 10^{6133}$."
   ]
  },
  {
   "cell_type": "markdown",
   "id": "7aa16743",
   "metadata": {},
   "source": [
    "------"
   ]
  },
  {
   "cell_type": "markdown",
   "id": "303b785b",
   "metadata": {},
   "source": [
    "_Angular dependence of the reflection coefficient of light_"
   ]
  },
  {
   "cell_type": "markdown",
   "id": "1f81d289",
   "metadata": {},
   "source": [
    "The intensity reflection coefficient, $R$, for the component of the field parallel to the plane of incidence is $$R = \\frac{\\tan^2(\\theta_i - \\theta_t)}{\\tan^2(\\theta_i + \\theta_t)}$$\n",
    "where $\\theta_i$ and $\\theta_t$ are the angles of incidence and transmission, respectively. Calculate $R$ and its associated error if\n",
    "$\\theta_i = (45.0 ± 0.1)^◦$ and $\\theta_t = (34.5 ± 0.2)^◦$."
   ]
  },
  {
   "cell_type": "markdown",
   "id": "06de43f3",
   "metadata": {},
   "source": [
    "Primero, pasamos todo a radianes:"
   ]
  },
  {
   "cell_type": "code",
   "execution_count": 64,
   "id": "fb83f4e7",
   "metadata": {},
   "outputs": [
    {
     "data": {
      "text/plain": [
       "(0.7853981633974483,\n",
       " 0.0017453292519943296,\n",
       " 0.6021385919380436,\n",
       " 0.003490658503988659)"
      ]
     },
     "execution_count": 64,
     "metadata": {},
     "output_type": "execute_result"
    }
   ],
   "source": [
    "theta_i = 45.0 *np.pi/180\n",
    "theta_t = 34.5 *np.pi/180\n",
    "un_theta_i = 0.1*np.pi/180\n",
    "un_theta_t = 0.2*np.pi/180\n",
    "theta_i,un_theta_i,theta_t,un_theta_t"
   ]
  },
  {
   "cell_type": "code",
   "execution_count": 72,
   "id": "9173d407",
   "metadata": {},
   "outputs": [],
   "source": [
    "theta_i_,theta_t_,un_theta_i_,un_theta_t_ = sym.symbols(r\"theta_i theta_t \\sigma_{\\theta_i} \\sigma_{\\theta_t}\")"
   ]
  },
  {
   "cell_type": "code",
   "execution_count": 75,
   "id": "7f7e33ee",
   "metadata": {},
   "outputs": [
    {
     "data": {
      "text/latex": [
       "$\\displaystyle \\frac{\\tan^{2}{\\left(\\theta_{i} - \\theta_{t} \\right)}}{\\tan^{2}{\\left(\\theta_{i} + \\theta_{t} \\right)}}$"
      ],
      "text/plain": [
       "tan(theta_i - theta_t)**2/tan(theta_i + theta_t)**2"
      ]
     },
     "execution_count": 75,
     "metadata": {},
     "output_type": "execute_result"
    }
   ],
   "source": [
    "R = sym.tan(theta_i_ - theta_t_)**2/(sym.tan(theta_i_ + theta_t_)**2)\n",
    "R"
   ]
  },
  {
   "cell_type": "code",
   "execution_count": 78,
   "id": "630311f1",
   "metadata": {},
   "outputs": [
    {
     "data": {
      "text/latex": [
       "$\\displaystyle \\frac{\\left(2 \\tan^{2}{\\left(\\theta_{i} - \\theta_{t} \\right)} + 2\\right) \\tan{\\left(\\theta_{i} - \\theta_{t} \\right)}}{\\tan^{2}{\\left(\\theta_{i} + \\theta_{t} \\right)}} + \\frac{\\left(- 2 \\tan^{2}{\\left(\\theta_{i} + \\theta_{t} \\right)} - 2\\right) \\tan^{2}{\\left(\\theta_{i} - \\theta_{t} \\right)}}{\\tan^{3}{\\left(\\theta_{i} + \\theta_{t} \\right)}}$"
      ],
      "text/plain": [
       "(2*tan(theta_i - theta_t)**2 + 2)*tan(theta_i - theta_t)/tan(theta_i + theta_t)**2 + (-2*tan(theta_i + theta_t)**2 - 2)*tan(theta_i - theta_t)**2/tan(theta_i + theta_t)**3"
      ]
     },
     "execution_count": 78,
     "metadata": {},
     "output_type": "execute_result"
    }
   ],
   "source": [
    "dRdthetai = sym.diff(R,theta_i_)\n",
    "dRdthetai"
   ]
  },
  {
   "cell_type": "code",
   "execution_count": 79,
   "id": "c9ae725b",
   "metadata": {},
   "outputs": [
    {
     "data": {
      "text/latex": [
       "$\\displaystyle \\frac{\\left(- 2 \\tan^{2}{\\left(\\theta_{i} - \\theta_{t} \\right)} - 2\\right) \\tan{\\left(\\theta_{i} - \\theta_{t} \\right)}}{\\tan^{2}{\\left(\\theta_{i} + \\theta_{t} \\right)}} + \\frac{\\left(- 2 \\tan^{2}{\\left(\\theta_{i} + \\theta_{t} \\right)} - 2\\right) \\tan^{2}{\\left(\\theta_{i} - \\theta_{t} \\right)}}{\\tan^{3}{\\left(\\theta_{i} + \\theta_{t} \\right)}}$"
      ],
      "text/plain": [
       "(-2*tan(theta_i - theta_t)**2 - 2)*tan(theta_i - theta_t)/tan(theta_i + theta_t)**2 + (-2*tan(theta_i + theta_t)**2 - 2)*tan(theta_i - theta_t)**2/tan(theta_i + theta_t)**3"
      ]
     },
     "execution_count": 79,
     "metadata": {},
     "output_type": "execute_result"
    }
   ],
   "source": [
    "dRdthetat = sym.diff(R,theta_t_)\n",
    "dRdthetat"
   ]
  },
  {
   "cell_type": "code",
   "execution_count": 80,
   "id": "e1e5ee3a",
   "metadata": {},
   "outputs": [
    {
     "data": {
      "text/latex": [
       "$\\displaystyle \\sqrt{\\sigma_{\\theta_i}^{2} \\left(\\frac{\\left(2 \\tan^{2}{\\left(\\theta_{i} - \\theta_{t} \\right)} + 2\\right) \\tan{\\left(\\theta_{i} - \\theta_{t} \\right)}}{\\tan^{2}{\\left(\\theta_{i} + \\theta_{t} \\right)}} + \\frac{\\left(- 2 \\tan^{2}{\\left(\\theta_{i} + \\theta_{t} \\right)} - 2\\right) \\tan^{2}{\\left(\\theta_{i} - \\theta_{t} \\right)}}{\\tan^{3}{\\left(\\theta_{i} + \\theta_{t} \\right)}}\\right)^{2} + \\sigma_{\\theta_t}^{2} \\left(\\frac{\\left(- 2 \\tan^{2}{\\left(\\theta_{i} - \\theta_{t} \\right)} - 2\\right) \\tan{\\left(\\theta_{i} - \\theta_{t} \\right)}}{\\tan^{2}{\\left(\\theta_{i} + \\theta_{t} \\right)}} + \\frac{\\left(- 2 \\tan^{2}{\\left(\\theta_{i} + \\theta_{t} \\right)} - 2\\right) \\tan^{2}{\\left(\\theta_{i} - \\theta_{t} \\right)}}{\\tan^{3}{\\left(\\theta_{i} + \\theta_{t} \\right)}}\\right)^{2}}$"
      ],
      "text/plain": [
       "sqrt(\\sigma_{\\theta_i}**2*((2*tan(theta_i - theta_t)**2 + 2)*tan(theta_i - theta_t)/tan(theta_i + theta_t)**2 + (-2*tan(theta_i + theta_t)**2 - 2)*tan(theta_i - theta_t)**2/tan(theta_i + theta_t)**3)**2 + \\sigma_{\\theta_t}**2*((-2*tan(theta_i - theta_t)**2 - 2)*tan(theta_i - theta_t)/tan(theta_i + theta_t)**2 + (-2*tan(theta_i + theta_t)**2 - 2)*tan(theta_i - theta_t)**2/tan(theta_i + theta_t)**3)**2)"
      ]
     },
     "execution_count": 80,
     "metadata": {},
     "output_type": "execute_result"
    }
   ],
   "source": [
    "un_R = sym.sqrt(dRdthetai**2*un_theta_i_**2 + dRdthetat**2 * un_theta_t_**2)\n",
    "un_R"
   ]
  },
  {
   "cell_type": "code",
   "execution_count": 81,
   "id": "f45e3e7e",
   "metadata": {},
   "outputs": [],
   "source": [
    "un_R_f = sym.lambdify([theta_i_,theta_t_,un_theta_i_,un_theta_t_],un_R)"
   ]
  },
  {
   "cell_type": "code",
   "execution_count": 82,
   "id": "974db25e",
   "metadata": {},
   "outputs": [
    {
     "data": {
      "text/plain": [
       "np.float64(9.194664167000746e-05)"
      ]
     },
     "execution_count": 82,
     "metadata": {},
     "output_type": "execute_result"
    }
   ],
   "source": [
    "un_R_f(theta_i,theta_t,un_theta_i,un_theta_t)"
   ]
  },
  {
   "cell_type": "code",
   "execution_count": 83,
   "id": "f682989d",
   "metadata": {},
   "outputs": [],
   "source": [
    "R_f = sym.lambdify([theta_i_,theta_t_],R)"
   ]
  },
  {
   "cell_type": "code",
   "execution_count": 84,
   "id": "ba2a1ce9",
   "metadata": {},
   "outputs": [
    {
     "data": {
      "text/plain": [
       "np.float64(0.0011799610805957297)"
      ]
     },
     "execution_count": 84,
     "metadata": {},
     "output_type": "execute_result"
    }
   ],
   "source": [
    "R_f(theta_i,theta_t)"
   ]
  },
  {
   "cell_type": "markdown",
   "id": "a79d1226",
   "metadata": {},
   "source": [
    "Se obtuvo entonces que $R = (117 \\pm 9)\\times10^{-5}$"
   ]
  },
  {
   "cell_type": "markdown",
   "id": "0bd4b47d",
   "metadata": {},
   "source": [
    "---"
   ]
  },
  {
   "cell_type": "markdown",
   "id": "b834e650",
   "metadata": {},
   "source": [
    "_Poiseuille's method for determing viscosity_"
   ]
  },
  {
   "cell_type": "markdown",
   "id": "b882cd94",
   "metadata": {},
   "source": [
    "The volume flow rate, $\\frac{\\text{d}V}{\\text{d}t}$, of fluid flowing smoothly through a horizontal tube of lenght $L$ and radius $r$ is given by Poiseuille's equation: $$\\frac{\\text{d}V}{\\text{d}t} = \\frac{\\pi \\rho g h r^4}{8\\eta L}$$ where $\\eta$ and $\\rho$ are the viscosity and density, respectively, of the fluid, $h$ is the head of pressure across the tube, and $g$ the acceleration due to gravity. In an experiment the graph of the flow rate versus height has a slope measured to $7\\%$, the length is known to $0.5\\%$, and the radius to $8\\%$. What is the fractional preciosion to which the viscosity is known? If more expreimental time is available, should this be devote to **(i)** collecting more flow-rate data, **(ii)** measuring the length, or **(iii)** the radius of the tube?"
   ]
  },
  {
   "cell_type": "markdown",
   "id": "7f495db6",
   "metadata": {},
   "source": [
    "Calculando la precisión fraccional se tiene que:"
   ]
  },
  {
   "attachments": {
    "Imagen%20de%20WhatsApp%202024-09-16%20a%20las%2018.51.35_401d6874.jpg": {
     "image/jpeg": "[encoded data removed]"
    }
   },
   "cell_type": "markdown",
   "id": "dfbff7bd",
   "metadata": {},
   "source": [
    "![Imagen%20de%20WhatsApp%202024-09-16%20a%20las%2018.51.35_401d6874.jpg](attachment:Imagen%20de%20WhatsApp%202024-09-16%20a%20las%2018.51.35_401d6874.jpg)"
   ]
  },
  {
   "cell_type": "markdown",
   "id": "a275b3a6",
   "metadata": {},
   "source": [
    "Lo cual se traduce numéricamente a:"
   ]
  },
  {
   "cell_type": "code",
   "execution_count": 85,
   "id": "1a189a81",
   "metadata": {},
   "outputs": [],
   "source": [
    "frac_un_slope = 7/100\n",
    "frac_un_L = 0.5/100\n",
    "frac_un_r = 8/100"
   ]
  },
  {
   "cell_type": "code",
   "execution_count": 87,
   "id": "429413ca",
   "metadata": {},
   "outputs": [
    {
     "data": {
      "text/plain": [
       "np.float64(0.32760494501762333)"
      ]
     },
     "execution_count": 87,
     "metadata": {},
     "output_type": "execute_result"
    }
   ],
   "source": [
    "frac_un_viscosity = np.sqrt(frac_un_slope**2 + frac_un_L**2 +16*frac_un_r**2)\n",
    "frac_un_viscosity"
   ]
  },
  {
   "cell_type": "markdown",
   "id": "1b8931b5",
   "metadata": {},
   "source": [
    "Por tanto, se puede calcular la viscosidad con una precisión de $32\\%$. Por otro lado, si se tiene más tiempo de experimental, este debe tiempo extra debería estar dedicado a medir mejor el radio del tubo, pues este tiene un mayor \"weight\" con respecto a las otras variables."
   ]
  },
  {
   "cell_type": "markdown",
   "id": "7c6ea21f",
   "metadata": {},
   "source": [
    "---"
   ]
  },
  {
   "cell_type": "markdown",
   "id": "86d7b45b",
   "metadata": {},
   "source": [
    "_Error spreadsheet for Van der Waals calculation_"
   ]
  },
  {
   "cell_type": "markdown",
   "id": "e223332d",
   "metadata": {},
   "source": [
    "Construct a spreadsheet which has the data from the\n",
    "calculation in Section 4.2.2. Include cells for: **(i)** the\n",
    "variables (molar volume and the absolute temperature),\n",
    "**(ii)** the uncertainties, and **(iii)** the universal gas constant\n",
    "as well as the parameters $a$ and $b$. Verify the numbers obtained in the worked example. Repeat the calculation for **(i)** $V_m = (2.000 ± 0.003) × 10^{−3} m3 mol^{−1}$\n",
    "and $T = 400.0 ± 0.2 K$; **(ii)** $V_m = (5.000 ± 0.001) ×\n",
    "10^{−4} m^3 mol^{−1}$ and $T = 500.0 ± 0.2 K$. Repeat the\n",
    "calculations with the same variables for **(a)** He with\n",
    "$a = 3.457 209 × 10^{−3} m^6 mol^{−2} \\text{Pa}$, and $b = 2.37 ×\n",
    "10^{−5} m^{3} mol^{−1}$; **(b)** CO2 with $a = 3.639 594 ×\n",
    "10^{−1} m^6 mol^{−2} \\text{Pa}$, and $b = 4.267 × 10^{−5} m^3 mol^{−1}$;\n",
    "and **(c)** Ar with $a = 1.362 821 25 × 10^{−1} m^6 mol^{−2} \\text{Pa}$,\n",
    "and $b = 3.219 × 10^{−5} m^3 mol^{−1}$."
   ]
  },
  {
   "attachments": {
    "image.png": {
     "image/png": "[encoded data removed]"
    }
   },
   "cell_type": "markdown",
   "id": "f777197b",
   "metadata": {},
   "source": [
    "![image.png](attachment:image.png)"
   ]
  },
  {
   "cell_type": "markdown",
   "id": "1ca51715",
   "metadata": {},
   "source": [
    "---"
   ]
  },
  {
   "cell_type": "markdown",
   "id": "908c9742",
   "metadata": {},
   "source": [
    "_Weighted mean_"
   ]
  },
  {
   "cell_type": "markdown",
   "id": "79ed35a7",
   "metadata": {},
   "source": [
    "A group of six students make the following measurements of the speed of light (all $\\times 10^{-8} ms^{-1})$: $3.03 \\pm 0.04$, $2.99\\pm0.03$, $2.99\\pm0.02$, $3.00\\pm0.05$, $3.05\\pm0.04$ and $2.97\\pm0.02$. What should the cohort report as their combined result? If another student then reports $c = (3.0 \\pm 0.3)\\times10^{8}m s^{-1}$, is there any change to the cohort's combined measurement? If a further student resports $c = (4.01\\pm0.01)\\times10^{8}ms^{-1}$, is there any change to the cohort's combined measurment?"
   ]
  },
  {
   "attachments": {
    "Imagen%20de%20WhatsApp%202024-09-16%20a%20las%2019.53.44_1078836b.jpg": {
     "image/jpeg": "[encoded data removed]"
    }
   },
   "cell_type": "markdown",
   "id": "ed352c61",
   "metadata": {},
   "source": [
    "![Imagen%20de%20WhatsApp%202024-09-16%20a%20las%2019.53.44_1078836b.jpg](attachment:Imagen%20de%20WhatsApp%202024-09-16%20a%20las%2019.53.44_1078836b.jpg)"
   ]
  },
  {
   "cell_type": "markdown",
   "id": "fa341cc2",
   "metadata": {},
   "source": [
    "donde $\\displaystyle \\bar{x} = \\frac{\\sum_{i}x_i}{N}$, $\\displaystyle \\frac{\\partial \\bar{x}}{\\partial x_i} = \\frac{1}{N}$ y $\\displaystyle \\sigma_{\\bar{x}} = \\frac{1}{N}\\sqrt{\\sum_{i}\\sigma^2_{x_i}}$. Los cambios provocados por las dos nuevas medidas se pueden ver al final de la tabla."
   ]
  }
 ],
 "metadata": {
  "kernelspec": {
   "display_name": "Python 3 (ipykernel)",
   "language": "python",
   "name": "python3"
  },
  "language_info": {
   "codemirror_mode": {
    "name": "ipython",
    "version": 3
   },
   "file_extension": ".py",
   "mimetype": "text/x-python",
   "name": "python",
   "nbconvert_exporter": "python",
   "pygments_lexer": "ipython3",
   "version": "3.9.13"
  }
 },
 "nbformat": 4,
 "nbformat_minor": 5
}
