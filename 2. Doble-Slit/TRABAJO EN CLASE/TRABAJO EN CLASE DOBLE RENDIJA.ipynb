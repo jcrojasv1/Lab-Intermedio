{
 "cells": [
  {
   "cell_type": "code",
   "execution_count": 28,
   "id": "05ede917",
   "metadata": {},
   "outputs": [],
   "source": [
    "#from statistical_utilities import math_utilities as utils\n",
    "import numpy as np\n",
    "import pandas as pd\n",
    "import matplotlib.pyplot as plt\n",
    "from scipy import optimize"
   ]
  },
  {
   "cell_type": "markdown",
   "id": "be490762",
   "metadata": {},
   "source": [
    "**ALMACENAMIENTO DE DATOS:** Todos los datos tomados en esta práctica están almacenados en OneDrive: https://uniandes-my.sharepoint.com/:f:/g/personal/k_murcia_uniandes_edu_co/EpqZUJG_V_pPrmdpxrRXXbgBaegSgA48bKjsUeEoiaT3jg?e=L8zMbV"
   ]
  },
  {
   "cell_type": "markdown",
   "id": "5ef1a608",
   "metadata": {},
   "source": [
    "**INCERTIDUMBRES:** \n",
    "\n",
    "- $\\sigma_{} =  \\text{}$."
   ]
  },
  {
   "cell_type": "markdown",
   "id": "662685cb",
   "metadata": {},
   "source": [
    "# SESIÓN 01"
   ]
  },
  {
   "cell_type": "markdown",
   "id": "e569613b",
   "metadata": {},
   "source": [
    "**FECHA:** 2024-08-29\n",
    "\n",
    "**HORA:** 17:10\n",
    "\n",
    "**EXPERIMENTALISTAS:** Juan Carlos Rojas Velásquez (jc.rojasv1@uniandes.edu.co) & Katherin A. Murcia S. (k.murcia@uniandes.edu.co)\n",
    "\n",
    "**LABORATORIO:** B-103. Laboratorio de óptica."
   ]
  },
  {
   "cell_type": "markdown",
   "id": "0cb3f6f5",
   "metadata": {},
   "source": [
    "**OBJETIVOS DE LA SESIÓN:** "
   ]
  },
  {
   "cell_type": "markdown",
   "id": "0b02d4c3",
   "metadata": {},
   "source": [
    "**CONEXIONES:**"
   ]
  },
  {
   "cell_type": "markdown",
   "id": "4debaca0",
   "metadata": {},
   "source": [
    "**CONDICIONES ADICIONALES:**"
   ]
  },
  {
   "cell_type": "markdown",
   "id": "8d43b998",
   "metadata": {},
   "source": [
    "---"
   ]
  },
  {
   "cell_type": "markdown",
   "id": "a99b1631",
   "metadata": {},
   "source": [
    "# ACTIVIDAD 01. EJERCICIO 01."
   ]
  },
  {
   "cell_type": "markdown",
   "id": "e26dcefb",
   "metadata": {},
   "source": [
    "Describa el patrón que observa usando una tarjeta T cerca de la rendija detectora en los siguientes casos:\n",
    "\n",
    "- La luz pasa por las dos rendijas: franjas verticales\n",
    "- La luz pasa por una sola rendija: no franjas\n",
    "- La luz no pasa por ninguna rendija: nada\n",
    "\n",
    "Describa la transicion entre una y dos rendijas:\n",
    "- súper rápida\n",
    "\n",
    "¿Que sucede con los máximos y mínimos de intensidad? \n",
    "\n",
    "-¿se mantienen?\n",
    "\n",
    "Explique con argumentos físicos lo que sucede. Compare el patrón de interferencia que usted ve con los que se predice teoricamente en los ejercicios 1 y 2.\n"
   ]
  },
  {
   "cell_type": "markdown",
   "id": "c5ef5c63",
   "metadata": {},
   "source": [
    "Los datos obtenido luego de hacer un barrido de 0 a 10 mm se muestran a continuación:"
   ]
  },
  {
   "cell_type": "code",
   "execution_count": 7,
   "id": "5a0be0da",
   "metadata": {},
   "outputs": [],
   "source": [
    "Data = pd.read_csv(\"TRABAJO EN CLASE_1.csv\",sep=\";\")"
   ]
  },
  {
   "cell_type": "code",
   "execution_count": 8,
   "id": "634a10b1",
   "metadata": {},
   "outputs": [
    {
     "data": {
      "text/html": [
       "<div>\n",
       "<style scoped>\n",
       "    .dataframe tbody tr th:only-of-type {\n",
       "        vertical-align: middle;\n",
       "    }\n",
       "\n",
       "    .dataframe tbody tr th {\n",
       "        vertical-align: top;\n",
       "    }\n",
       "\n",
       "    .dataframe thead th {\n",
       "        text-align: right;\n",
       "    }\n",
       "</style>\n",
       "<table border=\"1\" class=\"dataframe\">\n",
       "  <thead>\n",
       "    <tr style=\"text-align: right;\">\n",
       "      <th></th>\n",
       "      <th>POSICION</th>\n",
       "      <th>VOLTAJE</th>\n",
       "      <th>POSICION.1</th>\n",
       "      <th>VOLTAJE.1</th>\n",
       "      <th>POSICION.2</th>\n",
       "      <th>VOLTAJE</th>\n",
       "    </tr>\n",
       "  </thead>\n",
       "  <tbody>\n",
       "    <tr>\n",
       "      <th>0</th>\n",
       "      <td>0.0</td>\n",
       "      <td>0.591</td>\n",
       "      <td>3.0</td>\n",
       "      <td>0.007</td>\n",
       "      <td>4.0</td>\n",
       "      <td>0.007</td>\n",
       "    </tr>\n",
       "    <tr>\n",
       "      <th>1</th>\n",
       "      <td>0.1</td>\n",
       "      <td>0.555</td>\n",
       "      <td>3.1</td>\n",
       "      <td>0.007</td>\n",
       "      <td>4.1</td>\n",
       "      <td>0.007</td>\n",
       "    </tr>\n",
       "    <tr>\n",
       "      <th>2</th>\n",
       "      <td>0.2</td>\n",
       "      <td>0.518</td>\n",
       "      <td>3.2</td>\n",
       "      <td>0.007</td>\n",
       "      <td>4.2</td>\n",
       "      <td>0.008</td>\n",
       "    </tr>\n",
       "    <tr>\n",
       "      <th>3</th>\n",
       "      <td>0.3</td>\n",
       "      <td>0.445</td>\n",
       "      <td>3.3</td>\n",
       "      <td>0.008</td>\n",
       "      <td>4.3</td>\n",
       "      <td>0.009</td>\n",
       "    </tr>\n",
       "    <tr>\n",
       "      <th>4</th>\n",
       "      <td>0.4</td>\n",
       "      <td>0.352</td>\n",
       "      <td>3.4</td>\n",
       "      <td>0.007</td>\n",
       "      <td>4.4</td>\n",
       "      <td>0.009</td>\n",
       "    </tr>\n",
       "    <tr>\n",
       "      <th>...</th>\n",
       "      <td>...</td>\n",
       "      <td>...</td>\n",
       "      <td>...</td>\n",
       "      <td>...</td>\n",
       "      <td>...</td>\n",
       "      <td>...</td>\n",
       "    </tr>\n",
       "    <tr>\n",
       "      <th>120</th>\n",
       "      <td>12.0</td>\n",
       "      <td>0.061</td>\n",
       "      <td>NaN</td>\n",
       "      <td>NaN</td>\n",
       "      <td>NaN</td>\n",
       "      <td>NaN</td>\n",
       "    </tr>\n",
       "    <tr>\n",
       "      <th>121</th>\n",
       "      <td>12.1</td>\n",
       "      <td>0.065</td>\n",
       "      <td>NaN</td>\n",
       "      <td>NaN</td>\n",
       "      <td>NaN</td>\n",
       "      <td>NaN</td>\n",
       "    </tr>\n",
       "    <tr>\n",
       "      <th>122</th>\n",
       "      <td>12.2</td>\n",
       "      <td>0.071</td>\n",
       "      <td>NaN</td>\n",
       "      <td>NaN</td>\n",
       "      <td>NaN</td>\n",
       "      <td>NaN</td>\n",
       "    </tr>\n",
       "    <tr>\n",
       "      <th>123</th>\n",
       "      <td>12.3</td>\n",
       "      <td>0.079</td>\n",
       "      <td>NaN</td>\n",
       "      <td>NaN</td>\n",
       "      <td>NaN</td>\n",
       "      <td>NaN</td>\n",
       "    </tr>\n",
       "    <tr>\n",
       "      <th>124</th>\n",
       "      <td>12.4</td>\n",
       "      <td>0.085</td>\n",
       "      <td>NaN</td>\n",
       "      <td>NaN</td>\n",
       "      <td>NaN</td>\n",
       "      <td>NaN</td>\n",
       "    </tr>\n",
       "  </tbody>\n",
       "</table>\n",
       "<p>125 rows × 6 columns</p>\n",
       "</div>"
      ],
      "text/plain": [
       "     POSICION  VOLTAJE  POSICION.1  VOLTAJE.1  POSICION.2  VOLTAJE \n",
       "0         0.0    0.591         3.0      0.007         4.0     0.007\n",
       "1         0.1    0.555         3.1      0.007         4.1     0.007\n",
       "2         0.2    0.518         3.2      0.007         4.2     0.008\n",
       "3         0.3    0.445         3.3      0.008         4.3     0.009\n",
       "4         0.4    0.352         3.4      0.007         4.4     0.009\n",
       "..        ...      ...         ...        ...         ...       ...\n",
       "120      12.0    0.061         NaN        NaN         NaN       NaN\n",
       "121      12.1    0.065         NaN        NaN         NaN       NaN\n",
       "122      12.2    0.071         NaN        NaN         NaN       NaN\n",
       "123      12.3    0.079         NaN        NaN         NaN       NaN\n",
       "124      12.4    0.085         NaN        NaN         NaN       NaN\n",
       "\n",
       "[125 rows x 6 columns]"
      ]
     },
     "execution_count": 8,
     "metadata": {},
     "output_type": "execute_result"
    }
   ],
   "source": [
    "Data"
   ]
  },
  {
   "cell_type": "code",
   "execution_count": 9,
   "id": "e65dbf9f",
   "metadata": {},
   "outputs": [],
   "source": [
    "x_pos_double_slit = Data[\"POSICION\"].values -8\n",
    "V_double_slit = Data[\"VOLTAJE\"].values"
   ]
  },
  {
   "cell_type": "code",
   "execution_count": 10,
   "id": "97fbe5e8",
   "metadata": {},
   "outputs": [
    {
     "data": {
      "text/plain": [
       "(array([-8. , -7.9, -7.8, -7.7, -7.6, -7.5, -7.4, -7.3, -7.2, -7.1, -7. ,\n",
       "        -6.9, -6.8, -6.7, -6.6, -6.5, -6.4, -6.3, -6.2, -6.1, -6. , -5.9,\n",
       "        -5.8, -5.7, -5.6, -5.5, -5.4, -5.3, -5.2, -5.1, -5. , -4.9, -4.8,\n",
       "        -4.7, -4.6, -4.5, -4.4, -4.3, -4.2, -4.1, -4. , -3.9, -3.8, -3.7,\n",
       "        -3.6, -3.5, -3.4, -3.3, -3.2, -3.1, -3. , -2.9, -2.8, -2.7, -2.6,\n",
       "        -2.5, -2.4, -2.3, -2.2, -2.1, -2. , -1.9, -1.8, -1.7, -1.6, -1.5,\n",
       "        -1.4, -1.3, -1.2, -1.1, -1. , -0.9, -0.8, -0.7, -0.6, -0.5, -0.4,\n",
       "        -0.3, -0.2, -0.1,  0. ,  0.1,  0.2,  0.3,  0.4,  0.5,  0.6,  0.7,\n",
       "         0.8,  0.9,  1. ,  1.1,  1.2,  1.3,  1.4,  1.5,  1.6,  1.7,  1.8,\n",
       "         1.9,  2. ,  2.1,  2.2,  2.3,  2.4,  2.5,  2.6,  2.7,  2.8,  2.9,\n",
       "         3. ,  3.1,  3.2,  3.3,  3.4,  3.5,  3.6,  3.7,  3.8,  3.9,  4. ,\n",
       "         4.1,  4.2,  4.3,  4.4]),\n",
       " array([0.591, 0.555, 0.518, 0.445, 0.352, 0.245, 0.159, 0.105, 0.076,\n",
       "        0.053, 0.02 , 0.007, 0.007, 0.007, 0.007, 0.007, 0.007, 0.007,\n",
       "        0.007, 0.007, 0.007, 0.007, 0.007, 0.007, 0.007, 0.007, 0.007,\n",
       "        0.007, 0.007, 0.007, 0.007, 0.007, 0.007, 0.007, 0.007, 0.007,\n",
       "        0.007, 0.007, 0.007, 0.007, 0.007, 0.007, 0.008, 0.008, 0.009,\n",
       "        0.009, 0.008, 0.007, 0.009, 0.013, 0.018, 0.021, 0.019, 0.013,\n",
       "        0.008, 0.009, 0.017, 0.031, 0.04 , 0.038, 0.026, 0.012, 0.009,\n",
       "        0.02 , 0.042, 0.059, 0.061, 0.044, 0.021, 0.009, 0.018, 0.045,\n",
       "        0.072, 0.08 , 0.063, 0.034, 0.013, 0.016, 0.041, 0.072, 0.087,\n",
       "        0.074, 0.045, 0.018, 0.014, 0.031, 0.061, 0.079, 0.073, 0.05 ,\n",
       "        0.024, 0.013, 0.021, 0.04 , 0.054, 0.054, 0.041, 0.023, 0.012,\n",
       "        0.013, 0.017, 0.01 , 0.007, 0.007, 0.007, 0.008, 0.011, 0.015,\n",
       "        0.017, 0.019, 0.022, 0.025, 0.029, 0.033, 0.038, 0.041, 0.045,\n",
       "        0.049, 0.053, 0.057, 0.061, 0.065, 0.071, 0.079, 0.085]))"
      ]
     },
     "execution_count": 10,
     "metadata": {},
     "output_type": "execute_result"
    }
   ],
   "source": [
    "x_pos_double_slit,V_double_slit"
   ]
  },
  {
   "cell_type": "code",
   "execution_count": 20,
   "id": "742d1153",
   "metadata": {},
   "outputs": [
    {
     "data": {
      "text/plain": [
       "<matplotlib.collections.PathCollection at 0x247d886a1c0>"
      ]
     },
     "execution_count": 20,
     "metadata": {},
     "output_type": "execute_result"
    },
    {
     "data": {
      "image/png": "[encoded data removed]",
      "text/plain": [
       "<Figure size 640x480 with 1 Axes>"
      ]
     },
     "metadata": {},
     "output_type": "display_data"
    }
   ],
   "source": [
    "plt.scatter(theta[32:103],V_double_slit[32:103]-0.007)"
   ]
  },
  {
   "cell_type": "code",
   "execution_count": 17,
   "id": "ce5ee524",
   "metadata": {},
   "outputs": [],
   "source": [
    "theta = np.arctan(x_pos_double_slit/470)\n",
    "I_0 = 0.097\n",
    "a=0.1\n",
    "d=0.457\n",
    "lambda_ = 0.00067"
   ]
  },
  {
   "cell_type": "code",
   "execution_count": 18,
   "id": "4325c49f",
   "metadata": {},
   "outputs": [],
   "source": [
    "def Double_Slit(theta, I_0):\n",
    "    alpha = (np.pi*a)/lambda_ * np.sin(theta)\n",
    "    beta = (np.pi*d)/lambda_ * np.sin(theta)\n",
    "    return (I_0) * (np.cos(beta))**2 * ((np.sin(alpha)/alpha)**2)"
   ]
  },
  {
   "cell_type": "code",
   "execution_count": 19,
   "id": "9bd42a63",
   "metadata": {},
   "outputs": [
    {
     "name": "stderr",
     "output_type": "stream",
     "text": [
      "C:\\Users\\juank\\AppData\\Local\\Temp\\ipykernel_16068\\3289618090.py:4: RuntimeWarning: invalid value encountered in divide\n",
      "  return (I_0) * (np.cos(beta))**2 * ((np.sin(alpha)/alpha)**2)\n",
      "C:\\Users\\juank\\AppData\\Local\\Temp\\ipykernel_16068\\3515181543.py:1: OptimizeWarning: Covariance of the parameters could not be estimated\n",
      "  popt, pcov = optimize.curve_fit(Double_Slit, theta, V_double_slit)\n"
     ]
    }
   ],
   "source": [
    "popt, pcov = optimize.curve_fit(Double_Slit, theta, V_double_slit)"
   ]
  },
  {
   "cell_type": "code",
   "execution_count": 25,
   "id": "ceac1c8e",
   "metadata": {},
   "outputs": [
    {
     "data": {
      "text/plain": [
       "<matplotlib.collections.PathCollection at 0x247d8ae5910>"
      ]
     },
     "execution_count": 25,
     "metadata": {},
     "output_type": "execute_result"
    },
    {
     "data": {
      "image/png": "[encoded data removed]",
      "text/plain": [
       "<Figure size 640x480 with 1 Axes>"
      ]
     },
     "metadata": {},
     "output_type": "display_data"
    }
   ],
   "source": [
    "theta_ = np.linspace(-0.008, 0.005, int(1e5))\n",
    "ymodel = Double_Slit(theta_,*popt)\n",
    "plt.plot(theta_,I_0*ymodel)\n",
    "plt.scatter(theta[32:103],V_double_slit[32:103]-0.007)"
   ]
  },
  {
   "cell_type": "markdown",
   "id": "86adebe4",
   "metadata": {},
   "source": [
    "#No data? Wir haben Probleme. Viele Probleme. :c"
   ]
  }
 ],
 "metadata": {
  "kernelspec": {
   "display_name": "Python 3 (ipykernel)",
   "language": "python",
   "name": "python3"
  },
  "language_info": {
   "codemirror_mode": {
    "name": "ipython",
    "version": 3
   },
   "file_extension": ".py",
   "mimetype": "text/x-python",
   "name": "python",
   "nbconvert_exporter": "python",
   "pygments_lexer": "ipython3",
   "version": "3.9.13"
  }
 },
 "nbformat": 4,
 "nbformat_minor": 5
}
