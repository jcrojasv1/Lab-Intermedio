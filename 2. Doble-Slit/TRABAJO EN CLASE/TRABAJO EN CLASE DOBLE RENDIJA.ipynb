{
 "cells": [
  {
   "cell_type": "code",
   "execution_count": 2,
   "id": "05ede917",
   "metadata": {},
   "outputs": [],
   "source": [
    "#from statistical_utilities import math_utilities as utils\n",
    "import numpy as np\n",
    "import pandas as pd\n",
    "import matplotlib.pyplot as plt\n",
    "from scipy.signal import find_peaks\n",
    "from scipy.ndimage import gaussian_filter1d\n",
    "import statsmodels.api as sm"
   ]
  },
  {
   "cell_type": "code",
   "execution_count": 4,
   "id": "b5468f2b",
   "metadata": {},
   "outputs": [
    {
     "name": "stdout",
     "output_type": "stream",
     "text": [
      "Requirement already satisfied: matplotlib in c:\\users\\asus\\anaconda3\\lib\\site-packages (3.9.2)\n",
      "Requirement already satisfied: pyparsing>=2.3.1 in c:\\users\\asus\\anaconda3\\lib\\site-packages (from matplotlib) (3.0.4)\n",
      "Requirement already satisfied: numpy>=1.23 in c:\\users\\asus\\anaconda3\\lib\\site-packages (from matplotlib) (2.0.2)\n",
      "Requirement already satisfied: importlib-resources>=3.2.0 in c:\\users\\asus\\anaconda3\\lib\\site-packages (from matplotlib) (6.1.1)\n",
      "Requirement already satisfied: packaging>=20.0 in c:\\users\\asus\\anaconda3\\lib\\site-packages (from matplotlib) (24.1)\n",
      "Requirement already satisfied: python-dateutil>=2.7 in c:\\users\\asus\\anaconda3\\lib\\site-packages (from matplotlib) (2.8.2)\n",
      "Requirement already satisfied: contourpy>=1.0.1 in c:\\users\\asus\\anaconda3\\lib\\site-packages (from matplotlib) (1.2.0)\n",
      "Requirement already satisfied: cycler>=0.10 in c:\\users\\asus\\anaconda3\\lib\\site-packages (from matplotlib) (0.10.0)\n",
      "Requirement already satisfied: fonttools>=4.22.0 in c:\\users\\asus\\anaconda3\\lib\\site-packages (from matplotlib) (4.25.0)\n",
      "Requirement already satisfied: kiwisolver>=1.3.1 in c:\\users\\asus\\anaconda3\\lib\\site-packages (from matplotlib) (1.3.1)\n",
      "Requirement already satisfied: pillow>=8 in c:\\users\\asus\\anaconda3\\lib\\site-packages (from matplotlib) (8.4.0)\n",
      "Collecting numpy>=1.23\n",
      "  Using cached numpy-1.26.4-cp39-cp39-win_amd64.whl (15.8 MB)\n",
      "Requirement already satisfied: six in c:\\users\\asus\\anaconda3\\lib\\site-packages (from cycler>=0.10->matplotlib) (1.16.0)\n",
      "Requirement already satisfied: zipp>=3.1.0 in c:\\users\\asus\\anaconda3\\lib\\site-packages (from importlib-resources>=3.2.0->matplotlib) (3.6.0)\n",
      "Installing collected packages: numpy\n",
      "  Attempting uninstall: numpy\n",
      "    Found existing installation: numpy 2.0.2\n",
      "    Uninstalling numpy-2.0.2:\n",
      "      Successfully uninstalled numpy-2.0.2\n"
     ]
    },
    {
     "name": "stderr",
     "output_type": "stream",
     "text": [
      "ERROR: Could not install packages due to an OSError: [WinError 5] Acceso denegado: 'C:\\\\Users\\\\ASUS\\\\anaconda3\\\\Lib\\\\site-packages\\\\~-mpy.libs\\\\libscipy_openblas64_-caad452230ae4ddb57899b8b3a33c55c.dll'\n",
      "Consider using the `--user` option or check the permissions.\n",
      "\n"
     ]
    }
   ],
   "source": [
    "!pip install --upgrade matplotlib"
   ]
  },
  {
   "cell_type": "markdown",
   "id": "be490762",
   "metadata": {},
   "source": [
    "**ALMACENAMIENTO DE DATOS:** Todos los datos tomados en esta práctica están almacenados en OneDrive: https://uniandes-my.sharepoint.com/:f:/g/personal/k_murcia_uniandes_edu_co/EpqZUJG_V_pPrmdpxrRXXbgBaegSgA48bKjsUeEoiaT3jg?e=L8zMbV"
   ]
  },
  {
   "cell_type": "markdown",
   "id": "5ef1a608",
   "metadata": {},
   "source": [
    "**INCERTIDUMBRES:** \n",
    "\n",
    "- $\\sigma_{} =  \\text{}$."
   ]
  },
  {
   "cell_type": "markdown",
   "id": "662685cb",
   "metadata": {},
   "source": [
    "# SESIÓN 01"
   ]
  },
  {
   "cell_type": "markdown",
   "id": "e569613b",
   "metadata": {},
   "source": [
    "**FECHA:** 2024-08-29\n",
    "\n",
    "**HORA:** 17:10\n",
    "\n",
    "**EXPERIMENTALISTAS:** Juan Carlos Rojas Velásquez (jc.rojasv1@uniandes.edu.co) & Katherin A. Murcia S. (k.murcia@uniandes.edu.co)\n",
    "\n",
    "**LABORATORIO:** B-103. Laboratorio de óptica."
   ]
  },
  {
   "cell_type": "markdown",
   "id": "0cb3f6f5",
   "metadata": {},
   "source": [
    "**OBJETIVOS DE LA SESIÓN:** "
   ]
  },
  {
   "cell_type": "markdown",
   "id": "0b02d4c3",
   "metadata": {},
   "source": [
    "**CONEXIONES:**"
   ]
  },
  {
   "cell_type": "markdown",
   "id": "4debaca0",
   "metadata": {},
   "source": [
    "**CONDICIONES ADICIONALES:**"
   ]
  },
  {
   "cell_type": "markdown",
   "id": "8d43b998",
   "metadata": {},
   "source": [
    "---"
   ]
  },
  {
   "cell_type": "markdown",
   "id": "a99b1631",
   "metadata": {},
   "source": [
    "# ACTIVIDAD 01. EJERCICIO 01."
   ]
  },
  {
   "cell_type": "markdown",
   "id": "e26dcefb",
   "metadata": {},
   "source": [
    "Describa el patrón que observa usando una tarjeta T cerca de la rendija detectora en los siguientes casos:\n",
    "\n",
    "- La luz pasa por las dos rendijas: franjas verticales\n",
    "- La luz pasa por una sola rendija: no franjas\n",
    "- La luz no pasa por ninguna rendija: nada\n",
    "\n",
    "Describa la transicion entre una y dos rendijas:\n",
    "- súper rápida\n",
    "\n",
    "¿Que sucede con los máximos y mínimos de intensidad? \n",
    "\n",
    "-¿se mantienen?\n",
    "\n",
    "Explique con argumentos físicos lo que sucede. Compare el patrón de interferencia que usted ve con los que se predice teoricamente en los ejercicios 1 y 2.\n"
   ]
  },
  {
   "cell_type": "markdown",
   "id": "476e25b9",
   "metadata": {},
   "source": []
  },
  {
   "cell_type": "code",
   "execution_count": null,
   "id": "a47331c2",
   "metadata": {},
   "outputs": [],
   "source": []
  }
 ],
 "metadata": {
  "kernelspec": {
   "display_name": "Python 3 (ipykernel)",
   "language": "python",
   "name": "python3"
  },
  "language_info": {
   "codemirror_mode": {
    "name": "ipython",
    "version": 3
   },
   "file_extension": ".py",
   "mimetype": "text/x-python",
   "name": "python",
   "nbconvert_exporter": "python",
   "pygments_lexer": "ipython3",
   "version": "3.9.7"
  }
 },
 "nbformat": 4,
 "nbformat_minor": 5
}
