{
 "cells": [
  {
   "cell_type": "code",
   "execution_count": 1,
   "id": "8900686a",
   "metadata": {},
   "outputs": [],
   "source": [
    "from statistical_utilities import math_utilities as tools\n",
    "import numpy as np"
   ]
  },
  {
   "cell_type": "code",
   "execution_count": 2,
   "id": "995b750c",
   "metadata": {},
   "outputs": [],
   "source": [
    "#Datos de longitud y período de\n",
    "L = np.array([0.1,0.15,0.2,0.25,0.3,0.35,0.4])\n",
    "T = np.array([0.65,0.79,0.9,1.01,1.1,1.2,1.27])"
   ]
  },
  {
   "cell_type": "code",
   "execution_count": 3,
   "id": "3e3dbffb",
   "metadata": {},
   "outputs": [
    {
     "data": {
      "text/plain": [
       "(array([0.1 , 0.15, 0.2 , 0.25, 0.3 , 0.35, 0.4 ]),\n",
       " array([0.4225, 0.6241, 0.81  , 1.0201, 1.21  , 1.44  , 1.6129]))"
      ]
     },
     "execution_count": 3,
     "metadata": {},
     "output_type": "execute_result"
    }
   ],
   "source": [
    "T_sqrd = np.array([0.65,0.79,0.9,1.01,1.1,1.2,1.27])**2\n",
    "sigma_L = 0.01 # m\n",
    "sigma_T = 0.05 # s\n",
    "sigma_T_sqrd = 2*T*0.05\n",
    "\n",
    "L,T_sqrd"
   ]
  },
  {
   "cell_type": "code",
   "execution_count": 4,
   "id": "1c9aafc5",
   "metadata": {},
   "outputs": [
    {
     "name": "stdout",
     "output_type": "stream",
     "text": [
      "m: 3.9930482390205055 uncertanty m: 0.3567056561510685\n",
      "b: 0.021601823633292914 uncertanty b: 0.08097656396692683\n"
     ]
    },
    {
     "data": {
      "text/plain": [
       "array([3.99304824, 0.35670566, 0.02160182, 0.08097656])"
      ]
     },
     "execution_count": 4,
     "metadata": {},
     "output_type": "execute_result"
    }
   ],
   "source": [
    "tools.linear_w_regression(L,T_sqrd,sigma_L,sigma_T_sqrd)"
   ]
  },
  {
   "cell_type": "code",
   "execution_count": null,
   "id": "bd5be285",
   "metadata": {},
   "outputs": [],
   "source": []
  }
 ],
 "metadata": {
  "kernelspec": {
   "display_name": "Python 3 (ipykernel)",
   "language": "python",
   "name": "python3"
  },
  "language_info": {
   "codemirror_mode": {
    "name": "ipython",
    "version": 3
   },
   "file_extension": ".py",
   "mimetype": "text/x-python",
   "name": "python",
   "nbconvert_exporter": "python",
   "pygments_lexer": "ipython3",
   "version": "3.9.13"
  }
 },
 "nbformat": 4,
 "nbformat_minor": 5
}
